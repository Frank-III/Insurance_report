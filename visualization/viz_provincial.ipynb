{
 "cells": [
  {
   "cell_type": "code",
   "execution_count": 1,
   "metadata": {},
   "outputs": [
    {
     "data": {
      "text/html": [
       "        <script type=\"text/javascript\">\n",
       "        window.PlotlyConfig = {MathJaxConfig: 'local'};\n",
       "        if (window.MathJax) {MathJax.Hub.Config({SVG: {font: \"STIX-Web\"}});}\n",
       "        if (typeof require !== 'undefined') {\n",
       "        require.undef(\"plotly\");\n",
       "        requirejs.config({\n",
       "            paths: {\n",
       "                'plotly': ['https://cdn.plot.ly/plotly-2.8.3.min']\n",
       "            }\n",
       "        });\n",
       "        require(['plotly'], function(Plotly) {\n",
       "            window._Plotly = Plotly;\n",
       "        });\n",
       "        }\n",
       "        </script>\n",
       "        "
      ]
     },
     "metadata": {},
     "output_type": "display_data"
    }
   ],
   "source": [
    "import pandas as pd\n",
    "import numpy as np\n",
    "import plotly.express as px\n",
    "import plotly.graph_objects as go\n",
    "pd.set_option('display.max_rows', 100)\n",
    "pd.set_option('display.max_columns', 100)\n",
    "import matplotlib.pyplot as plt\n",
    "plt.style.use('fivethirtyeight')\n",
    "import seaborn as sns\n",
    "import re\n",
    "import cufflinks as cf\n",
    "cf.go_offline()\n",
    "cf.set_config_file(offline=False, world_readable=True)\n"
   ]
  },
  {
   "cell_type": "code",
   "execution_count": 2,
   "metadata": {},
   "outputs": [
    {
     "name": "stdout",
     "output_type": "stream",
     "text": [
      "['.ipynb_checkpoints', 'data_handler.ipynb', 'data_handler_julia.ipynb', 'month_data.csv', 'visualization.ipynb', 'viz_provincial.ipynb']\n"
     ]
    }
   ],
   "source": [
    "import os, sys\n",
    "print(os.listdir())\n",
    "data_dir = '../data/raw_province/'"
   ]
  },
  {
   "cell_type": "code",
   "execution_count": 3,
   "metadata": {},
   "outputs": [
    {
     "data": {
      "text/plain": [
       "['2020年10月全国各地区原保险保费收入情况表.xlsx',\n",
       " '2020年11月全国各地区原保险保费收入情况表.xlsx',\n",
       " '2020年12月全国各地区原保险保费收入情况表.xlsx',\n",
       " '2020年1月全国各地区原保险保费收入情况表.xlsx',\n",
       " '2020年2月全国各地区原保险保费收入情况表.xlsx',\n",
       " '2020年3月全国各地区原保险保费收入情况表.xlsx',\n",
       " '2020年4月全国各地区原保险保费收入情况表.xlsx',\n",
       " '2020年5月全国各地区原保险保费收入情况表.xlsx',\n",
       " '2020年6月全国各地区原保险保费收入情况表.xlsx',\n",
       " '2020年7月全国各地区原保险保费收入情况表.xlsx',\n",
       " '2020年8月全国各地区原保险保费收入情况表.xlsx',\n",
       " '2020年9月全国各地区原保险保费收入情况表.xlsx',\n",
       " '2021年10月全国各地区原保险保费收入情况表.xlsx',\n",
       " '2021年1月全国各地区原保险保费收入情况表.xlsx',\n",
       " '2021年2月全国各地区原保险保费收入情况表.xlsx',\n",
       " '2021年3月全国各地区原保险保费收入情况表.xlsx',\n",
       " '2021年4月全国各地区原保险保费收入情况表.xlsx',\n",
       " '2021年5月全国各地区原保险保费收入情况表.xlsx',\n",
       " '2021年6月全国各地区原保险保费收入情况表.xlsx',\n",
       " '2021年7月全国各地区原保险保费收入情况表.xlsx',\n",
       " '2021年8月全国各地区原保险保费收入情况表.xlsx',\n",
       " '2021年9月全国各地区原保险保费收入情况表.xlsx']"
      ]
     },
     "execution_count": 3,
     "metadata": {},
     "output_type": "execute_result"
    }
   ],
   "source": [
    "os.listdir(data_dir)"
   ]
  },
  {
   "cell_type": "code",
   "execution_count": 4,
   "metadata": {},
   "outputs": [
    {
     "name": "stdout",
     "output_type": "stream",
     "text": [
      "2020年10月\n",
      "2020年11月\n",
      "2020年12月\n",
      "2020年1月\n",
      "2020年2月\n",
      "2020年3月\n",
      "2020年4月\n",
      "2020年5月\n",
      "2020年6月\n",
      "2020年7月\n",
      "2020年8月\n",
      "2020年9月\n",
      "2021年10月\n",
      "2021年1月\n",
      "2021年2月\n",
      "2021年3月\n",
      "2021年4月\n",
      "2021年5月\n",
      "2021年6月\n",
      "2021年7月\n",
      "2021年8月\n",
      "2021年9月\n"
     ]
    }
   ],
   "source": [
    "for file in os.listdir(data_dir):\n",
    "    print(re.findall(r'\\d{4}年\\d{1,2}月',file)[0])"
   ]
  },
  {
   "cell_type": "code",
   "execution_count": 5,
   "metadata": {},
   "outputs": [],
   "source": [
    "df = pd.DataFrame()\n",
    "for file in os.listdir(data_dir):\n",
    "    tmp = pd.read_excel(data_dir + file ,header=4).iloc[:-5,2:]\n",
    "    tmp['yearmonth'] = re.findall(r'\\d{4}年\\d{1,2}月',file)[0]\n",
    "    df = df.append(tmp)\n",
    "df = df.dropna()"
   ]
  },
  {
   "cell_type": "code",
   "execution_count": 6,
   "metadata": {},
   "outputs": [],
   "source": [
    "df['Year'] = df['yearmonth'].str.findall(r'\\d{4}').map(lambda x: x[0]).astype(int)\n",
    "df['Month'] = df['yearmonth'].str.findall(r'\\d{1,2}(?=月)').map(lambda x: x[0]).astype(int)"
   ]
  },
  {
   "cell_type": "code",
   "execution_count": 7,
   "metadata": {},
   "outputs": [
    {
     "data": {
      "text/html": [
       "<div>\n",
       "<style scoped>\n",
       "    .dataframe tbody tr th:only-of-type {\n",
       "        vertical-align: middle;\n",
       "    }\n",
       "\n",
       "    .dataframe tbody tr th {\n",
       "        vertical-align: top;\n",
       "    }\n",
       "\n",
       "    .dataframe thead th {\n",
       "        text-align: right;\n",
       "    }\n",
       "</style>\n",
       "<table border=\"1\" class=\"dataframe\">\n",
       "  <thead>\n",
       "    <tr style=\"text-align: right;\">\n",
       "      <th></th>\n",
       "      <th>地区</th>\n",
       "      <th>合计</th>\n",
       "      <th>财产保险</th>\n",
       "      <th>寿险</th>\n",
       "      <th>意外险</th>\n",
       "      <th>健康险</th>\n",
       "      <th>yearmonth</th>\n",
       "      <th>Year</th>\n",
       "      <th>Month</th>\n",
       "    </tr>\n",
       "  </thead>\n",
       "  <tbody>\n",
       "    <tr>\n",
       "      <th>0</th>\n",
       "      <td>全国合计</td>\n",
       "      <td>39608.32</td>\n",
       "      <td>10047.86</td>\n",
       "      <td>21394.57</td>\n",
       "      <td>1003.80</td>\n",
       "      <td>7162.08</td>\n",
       "      <td>2020年10月</td>\n",
       "      <td>2020</td>\n",
       "      <td>10</td>\n",
       "    </tr>\n",
       "    <tr>\n",
       "      <th>1</th>\n",
       "      <td>集团、总公司本级</td>\n",
       "      <td>57.22</td>\n",
       "      <td>50.76</td>\n",
       "      <td>0.02</td>\n",
       "      <td>2.70</td>\n",
       "      <td>3.74</td>\n",
       "      <td>2020年10月</td>\n",
       "      <td>2020</td>\n",
       "      <td>10</td>\n",
       "    </tr>\n",
       "    <tr>\n",
       "      <th>2</th>\n",
       "      <td>北   京</td>\n",
       "      <td>1950.61</td>\n",
       "      <td>371.68</td>\n",
       "      <td>1120.89</td>\n",
       "      <td>58.07</td>\n",
       "      <td>399.97</td>\n",
       "      <td>2020年10月</td>\n",
       "      <td>2020</td>\n",
       "      <td>10</td>\n",
       "    </tr>\n",
       "    <tr>\n",
       "      <th>3</th>\n",
       "      <td>天   津</td>\n",
       "      <td>587.32</td>\n",
       "      <td>139.67</td>\n",
       "      <td>338.10</td>\n",
       "      <td>17.64</td>\n",
       "      <td>91.92</td>\n",
       "      <td>2020年10月</td>\n",
       "      <td>2020</td>\n",
       "      <td>10</td>\n",
       "    </tr>\n",
       "    <tr>\n",
       "      <th>4</th>\n",
       "      <td>河   北</td>\n",
       "      <td>1848.08</td>\n",
       "      <td>505.42</td>\n",
       "      <td>986.82</td>\n",
       "      <td>34.61</td>\n",
       "      <td>321.23</td>\n",
       "      <td>2020年10月</td>\n",
       "      <td>2020</td>\n",
       "      <td>10</td>\n",
       "    </tr>\n",
       "    <tr>\n",
       "      <th>...</th>\n",
       "      <td>...</td>\n",
       "      <td>...</td>\n",
       "      <td>...</td>\n",
       "      <td>...</td>\n",
       "      <td>...</td>\n",
       "      <td>...</td>\n",
       "      <td>...</td>\n",
       "      <td>...</td>\n",
       "      <td>...</td>\n",
       "    </tr>\n",
       "    <tr>\n",
       "      <th>33</th>\n",
       "      <td>青   海</td>\n",
       "      <td>86.85</td>\n",
       "      <td>33.48</td>\n",
       "      <td>36.27</td>\n",
       "      <td>2.72</td>\n",
       "      <td>14.39</td>\n",
       "      <td>2021年9月</td>\n",
       "      <td>2021</td>\n",
       "      <td>9</td>\n",
       "    </tr>\n",
       "    <tr>\n",
       "      <th>34</th>\n",
       "      <td>宁   夏</td>\n",
       "      <td>174.28</td>\n",
       "      <td>50.54</td>\n",
       "      <td>86.97</td>\n",
       "      <td>5.65</td>\n",
       "      <td>31.12</td>\n",
       "      <td>2021年9月</td>\n",
       "      <td>2021</td>\n",
       "      <td>9</td>\n",
       "    </tr>\n",
       "    <tr>\n",
       "      <th>35</th>\n",
       "      <td>新   疆</td>\n",
       "      <td>572.72</td>\n",
       "      <td>186.97</td>\n",
       "      <td>261.52</td>\n",
       "      <td>14.22</td>\n",
       "      <td>110.00</td>\n",
       "      <td>2021年9月</td>\n",
       "      <td>2021</td>\n",
       "      <td>9</td>\n",
       "    </tr>\n",
       "    <tr>\n",
       "      <th>36</th>\n",
       "      <td>内蒙古</td>\n",
       "      <td>530.66</td>\n",
       "      <td>159.82</td>\n",
       "      <td>258.55</td>\n",
       "      <td>12.38</td>\n",
       "      <td>99.91</td>\n",
       "      <td>2021年9月</td>\n",
       "      <td>2021</td>\n",
       "      <td>9</td>\n",
       "    </tr>\n",
       "    <tr>\n",
       "      <th>37</th>\n",
       "      <td>广   西</td>\n",
       "      <td>648.35</td>\n",
       "      <td>178.09</td>\n",
       "      <td>301.35</td>\n",
       "      <td>22.78</td>\n",
       "      <td>146.13</td>\n",
       "      <td>2021年9月</td>\n",
       "      <td>2021</td>\n",
       "      <td>9</td>\n",
       "    </tr>\n",
       "  </tbody>\n",
       "</table>\n",
       "<p>836 rows × 9 columns</p>\n",
       "</div>"
      ],
      "text/plain": [
       "          地区        合计      财产保险        寿险      意外险      健康险 yearmonth  Year  \\\n",
       "0       全国合计  39608.32  10047.86  21394.57  1003.80  7162.08  2020年10月  2020   \n",
       "1   集团、总公司本级     57.22     50.76      0.02     2.70     3.74  2020年10月  2020   \n",
       "2      北   京   1950.61    371.68   1120.89    58.07   399.97  2020年10月  2020   \n",
       "3      天   津    587.32    139.67    338.10    17.64    91.92  2020年10月  2020   \n",
       "4      河   北   1848.08    505.42    986.82    34.61   321.23  2020年10月  2020   \n",
       "..       ...       ...       ...       ...      ...      ...       ...   ...   \n",
       "33     青   海     86.85     33.48     36.27     2.72    14.39   2021年9月  2021   \n",
       "34     宁   夏    174.28     50.54     86.97     5.65    31.12   2021年9月  2021   \n",
       "35     新   疆    572.72    186.97    261.52    14.22   110.00   2021年9月  2021   \n",
       "36       内蒙古    530.66    159.82    258.55    12.38    99.91   2021年9月  2021   \n",
       "37     广   西    648.35    178.09    301.35    22.78   146.13   2021年9月  2021   \n",
       "\n",
       "    Month  \n",
       "0      10  \n",
       "1      10  \n",
       "2      10  \n",
       "3      10  \n",
       "4      10  \n",
       "..    ...  \n",
       "33      9  \n",
       "34      9  \n",
       "35      9  \n",
       "36      9  \n",
       "37      9  \n",
       "\n",
       "[836 rows x 9 columns]"
      ]
     },
     "execution_count": 7,
     "metadata": {},
     "output_type": "execute_result"
    }
   ],
   "source": [
    "df"
   ]
  },
  {
   "cell_type": "code",
   "execution_count": 9,
   "metadata": {},
   "outputs": [
    {
     "data": {
      "text/plain": [
       "0     39608.32\n",
       "1        57.22\n",
       "2      1950.61\n",
       "3       587.32\n",
       "4      1848.08\n",
       "        ...   \n",
       "33       84.71\n",
       "34      173.75\n",
       "35      569.03\n",
       "36      612.86\n",
       "37      598.52\n",
       "Name: 合计, Length: 456, dtype: float64"
      ]
     },
     "execution_count": 9,
     "metadata": {},
     "output_type": "execute_result"
    }
   ],
   "source": []
  },
  {
   "cell_type": "code",
   "execution_count": null,
   "metadata": {},
   "outputs": [],
   "source": []
  }
 ],
 "metadata": {
  "interpreter": {
   "hash": "3ae0b4b218c2ef8947e0fc5ae75fead4e7143b87d9a56d949fd3091a7dd02f51"
  },
  "kernelspec": {
   "display_name": "Python 3.8.12 64-bit ('mypy': conda)",
   "language": "python",
   "name": "python3"
  },
  "language_info": {
   "codemirror_mode": {
    "name": "ipython",
    "version": 3
   },
   "file_extension": ".py",
   "mimetype": "text/x-python",
   "name": "python",
   "nbconvert_exporter": "python",
   "pygments_lexer": "ipython3",
   "version": "3.8.12"
  },
  "orig_nbformat": 4
 },
 "nbformat": 4,
 "nbformat_minor": 2
}
