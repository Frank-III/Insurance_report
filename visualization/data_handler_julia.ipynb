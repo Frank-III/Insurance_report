{
 "cells": [
  {
   "cell_type": "code",
   "execution_count": 1,
   "metadata": {},
   "outputs": [
    {
     "name": "stdout",
     "output_type": "stream",
     "text": [
      "Julia Version 1.7.1\n",
      "Commit ac5cc99908 (2021-12-22 19:35 UTC)\n",
      "Platform Info:\n",
      "  OS: Linux (x86_64-pc-linux-gnu)\n",
      "  CPU: AMD Ryzen 7 5800H with Radeon Graphics\n",
      "  WORD_SIZE: 64\n",
      "  LIBM: libopenlibm\n",
      "  LLVM: libLLVM-12.0.1 (ORCJIT, znver3)\n"
     ]
    }
   ],
   "source": [
    "versioninfo()"
   ]
  },
  {
   "cell_type": "code",
   "execution_count": 68,
   "metadata": {},
   "outputs": [
    {
     "name": "stderr",
     "output_type": "stream",
     "text": [
      "WARNING: using Query.@select in module Main conflicts with an existing identifier.\n"
     ]
    }
   ],
   "source": [
    "using CSV\n",
    "using DataFrames\n",
    "using DataFramesMeta\n"
   ]
  },
  {
   "cell_type": "code",
   "execution_count": 3,
   "metadata": {},
   "outputs": [
    {
     "name": "stdout",
     "output_type": "stream",
     "text": [
      "/home/jiangda/Desktop/data_analysis/Insurance_report/visualization\n"
     ]
    }
   ],
   "source": [
    ";pwd"
   ]
  },
  {
   "cell_type": "code",
   "execution_count": 4,
   "metadata": {},
   "outputs": [
    {
     "data": {
      "text/plain": [
       "remove_chinese_sign (generic function with 1 method)"
      ]
     },
     "execution_count": 4,
     "metadata": {},
     "output_type": "execute_result"
    }
   ],
   "source": [
    "function remove_chinese_sign(data::DataFrame)\n",
    "    columns = names(data)\n",
    "    columns = replace.(columns,r\"_\\d、\" => s\"\",)\n",
    "    columns = replace.(columns,r\"_（\\d）\" => s\"\")\n",
    "    columns = replace.(columns,r\"：\" => s\":\")\n",
    "    return [Symbol(a) for a in columns] \n",
    "end"
   ]
  },
  {
   "cell_type": "code",
   "execution_count": 5,
   "metadata": {},
   "outputs": [
    {
     "data": {
      "text/html": [
       "<div class=\"data-frame\"><p>17 rows × 28 columns (omitted printing of 24 columns)</p><table class=\"data-frame\"><thead><tr><th></th><th>原保险保费收入</th><th>原保险保费收入_财产险</th><th>原保险保费收入_人身险</th><th>原保险保费收入_人身险_寿险</th></tr><tr><th></th><th title=\"Float64\">Float64</th><th title=\"Float64\">Float64</th><th title=\"Float64\">Float64</th><th title=\"Float64\">Float64</th></tr></thead><tbody><tr><th>1</th><td>19059.0</td><td>3888.0</td><td>15172.0</td><td>12005.0</td></tr><tr><th>2</th><td>16322.0</td><td>2953.0</td><td>13369.0</td><td>10863.0</td></tr><tr><th>3</th><td>11638.0</td><td>1917.0</td><td>9721.0</td><td>8261.0</td></tr><tr><th>4</th><td>8500.0</td><td>1305.0</td><td>7195.0</td><td>6272.0</td></tr><tr><th>5</th><td>3.80166e8</td><td>1.07701e8</td><td>2.72465e8</td><td>2.07229e8</td></tr><tr><th>6</th><td>3.54195e8</td><td>9.70127e7</td><td>2.57182e8</td><td>1.9664e8</td></tr><tr><th>7</th><td>3.3032e8</td><td>8.8026e7</td><td>2.42294e8</td><td>1.86e8</td></tr><tr><th>8</th><td>3.06618e8</td><td>8.0034e7</td><td>2.26584e8</td><td>1.74908e8</td></tr><tr><th>9</th><td>2.74496e8</td><td>7.10607e7</td><td>2.03435e8</td><td>1.58326e8</td></tr><tr><th>10</th><td>2.46702e8</td><td>6.2721e7</td><td>1.83981e8</td><td>1.43802e8</td></tr><tr><th>11</th><td>2.23694e8</td><td>5.44182e7</td><td>1.69276e8</td><td>1.33614e8</td></tr><tr><th>12</th><td>1.9103e8</td><td>4.47477e7</td><td>1.46282e8</td><td>1.17351e8</td></tr><tr><th>13</th><td>1.65854e8</td><td>3.63087e7</td><td>1.29546e8</td><td>1.05672e8</td></tr><tr><th>14</th><td>1.40844e8</td><td>2.7529e7</td><td>1.13315e8</td><td>9.50081e7</td></tr><tr><th>15</th><td>9.70344e7</td><td>1.77219e7</td><td>7.93125e7</td><td>6.9017e7</td></tr><tr><th>16</th><td>6.85192e7</td><td>1.14547e7</td><td>5.70645e7</td><td>5.07875e7</td></tr><tr><th>17</th><td>3.6581e8</td><td>9.83466e7</td><td>2.67463e8</td><td>2.14556e8</td></tr></tbody></table></div>"
      ],
      "text/latex": [
       "\\begin{tabular}{r|ccccc}\n",
       "\t& 原保险保费收入 & 原保险保费收入\\_财产险 & 原保险保费收入\\_人身险 & 原保险保费收入\\_人身险\\_寿险 & \\\\\n",
       "\t\\hline\n",
       "\t& Float64 & Float64 & Float64 & Float64 & \\\\\n",
       "\t\\hline\n",
       "\t1 & 19059.0 & 3888.0 & 15172.0 & 12005.0 & $\\dots$ \\\\\n",
       "\t2 & 16322.0 & 2953.0 & 13369.0 & 10863.0 & $\\dots$ \\\\\n",
       "\t3 & 11638.0 & 1917.0 & 9721.0 & 8261.0 & $\\dots$ \\\\\n",
       "\t4 & 8500.0 & 1305.0 & 7195.0 & 6272.0 & $\\dots$ \\\\\n",
       "\t5 & 3.80166e8 & 1.07701e8 & 2.72465e8 & 2.07229e8 & $\\dots$ \\\\\n",
       "\t6 & 3.54195e8 & 9.70127e7 & 2.57182e8 & 1.9664e8 & $\\dots$ \\\\\n",
       "\t7 & 3.3032e8 & 8.8026e7 & 2.42294e8 & 1.86e8 & $\\dots$ \\\\\n",
       "\t8 & 3.06618e8 & 8.0034e7 & 2.26584e8 & 1.74908e8 & $\\dots$ \\\\\n",
       "\t9 & 2.74496e8 & 7.10607e7 & 2.03435e8 & 1.58326e8 & $\\dots$ \\\\\n",
       "\t10 & 2.46702e8 & 6.2721e7 & 1.83981e8 & 1.43802e8 & $\\dots$ \\\\\n",
       "\t11 & 2.23694e8 & 5.44182e7 & 1.69276e8 & 1.33614e8 & $\\dots$ \\\\\n",
       "\t12 & 1.9103e8 & 4.47477e7 & 1.46282e8 & 1.17351e8 & $\\dots$ \\\\\n",
       "\t13 & 1.65854e8 & 3.63087e7 & 1.29546e8 & 1.05672e8 & $\\dots$ \\\\\n",
       "\t14 & 1.40844e8 & 2.7529e7 & 1.13315e8 & 9.50081e7 & $\\dots$ \\\\\n",
       "\t15 & 9.70344e7 & 1.77219e7 & 7.93125e7 & 6.9017e7 & $\\dots$ \\\\\n",
       "\t16 & 6.85192e7 & 1.14547e7 & 5.70645e7 & 5.07875e7 & $\\dots$ \\\\\n",
       "\t17 & 3.6581e8 & 9.83466e7 & 2.67463e8 & 2.14556e8 & $\\dots$ \\\\\n",
       "\\end{tabular}\n"
      ],
      "text/plain": [
       "\u001b[1m17×28 DataFrame\u001b[0m\n",
       "\u001b[1m Row \u001b[0m│\u001b[1m 原保险保费收入 \u001b[0m\u001b[1m 原保险保费收入_财产险 \u001b[0m\u001b[1m 原保险保费收入_人身险 \u001b[0m\u001b[1m 原保险保 \u001b[0m ⋯\n",
       "\u001b[1m     \u001b[0m│\u001b[90m Float64        \u001b[0m\u001b[90m Float64               \u001b[0m\u001b[90m Float64               \u001b[0m\u001b[90m Float64  \u001b[0m ⋯\n",
       "─────┼──────────────────────────────────────────────────────────────────────────\n",
       "   1 │  19059.0                 3888.0                15172.0                  ⋯\n",
       "   2 │  16322.0                 2953.0                13369.0\n",
       "   3 │  11638.0                 1917.0                 9721.0\n",
       "   4 │   8500.0                 1305.0                 7195.0\n",
       "   5 │      3.80166e8              1.07701e8              2.72465e8            ⋯\n",
       "   6 │      3.54195e8              9.70127e7              2.57182e8\n",
       "   7 │      3.3032e8               8.8026e7               2.42294e8\n",
       "   8 │      3.06618e8              8.0034e7               2.26584e8\n",
       "   9 │      2.74496e8              7.10607e7              2.03435e8            ⋯\n",
       "  10 │      2.46702e8              6.2721e7               1.83981e8\n",
       "  11 │      2.23694e8              5.44182e7              1.69276e8\n",
       "  12 │      1.9103e8               4.47477e7              1.46282e8\n",
       "  13 │      1.65854e8              3.63087e7              1.29546e8            ⋯\n",
       "  14 │      1.40844e8              2.7529e7               1.13315e8\n",
       "  15 │      9.70344e7              1.77219e7              7.93125e7\n",
       "  16 │      6.85192e7              1.14547e7              5.70645e7\n",
       "  17 │      3.6581e8               9.83466e7              2.67463e8            ⋯\n",
       "\u001b[36m                                                              25 columns omitted\u001b[0m"
      ]
     },
     "execution_count": 5,
     "metadata": {},
     "output_type": "execute_result"
    }
   ],
   "source": [
    "industry_old = CSV.read(\"../data/industry_old.csv\",DataFrame)\n",
    "cols = remove_chinese_sign(industry_old)\n",
    "rename!(industry_old,cols)\n",
    "#Would be better to use rename!(function,dataframe), the function work on one string"
   ]
  },
  {
   "cell_type": "code",
   "execution_count": null,
   "metadata": {},
   "outputs": [],
   "source": [
    "dropmissing(industry_old[!,[:\"投资\"]])"
   ]
  },
  {
   "cell_type": "code",
   "execution_count": null,
   "metadata": {},
   "outputs": [],
   "source": [
    "industry_old[!,:\"投资\"] = reduce(vcat,(dropmissing(@select(industry_old,:\"投资\" = (:\"债券\" .+ :\"股票和证券投资基金\") .* 10000)),dropmissing(industry_old[!,[:\"投资\"]])))[!,1]"
   ]
  },
  {
   "cell_type": "code",
   "execution_count": null,
   "metadata": {},
   "outputs": [],
   "source": [
    "industry_old[!,:year] = parse.(Int64,map(x-> x.captures[1], match.(r\"(\\d{4})年(.*)保险业经营情况\",industry_old.info)))\n"
   ]
  },
  {
   "cell_type": "code",
   "execution_count": null,
   "metadata": {},
   "outputs": [],
   "source": [
    "industry_old[!,:month] = map(x->x[begin:end-1],replace(map(x-> x.captures[2], match.(r\"(\\d{4})年(.*)保险业经营情况\",industry_old.info)),\"\"=>\"1-12月\"))"
   ]
  },
  {
   "cell_type": "code",
   "execution_count": null,
   "metadata": {},
   "outputs": [],
   "source": [
    "industry_old"
   ]
  },
  {
   "cell_type": "code",
   "execution_count": null,
   "metadata": {},
   "outputs": [],
   "source": [
    "industry_old[ industry_old[!,:year] .== 2019,:]"
   ]
  },
  {
   "cell_type": "code",
   "execution_count": null,
   "metadata": {},
   "outputs": [],
   "source": [
    "industry_data = CSV.read(\"../data/industry_data.csv\",DataFrame)\n",
    "cols_data = remove_chinese_sign(industry_data)\n",
    "rename!(industry_data,cols_data)"
   ]
  },
  {
   "cell_type": "code",
   "execution_count": null,
   "metadata": {},
   "outputs": [],
   "source": [
    "intersect(names(industry_old),names(industry_data))"
   ]
  },
  {
   "cell_type": "code",
   "execution_count": null,
   "metadata": {},
   "outputs": [],
   "source": []
  }
 ],
 "metadata": {
  "kernelspec": {
   "display_name": "Julia 1.7.1",
   "language": "julia",
   "name": "julia-1.7"
  },
  "language_info": {
   "file_extension": ".jl",
   "mimetype": "application/julia",
   "name": "julia",
   "version": "1.7.1"
  },
  "orig_nbformat": 4
 },
 "nbformat": 4,
 "nbformat_minor": 2
}
