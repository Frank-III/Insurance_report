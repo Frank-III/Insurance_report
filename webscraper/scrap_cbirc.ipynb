{
 "cells": [
  {
   "cell_type": "code",
   "execution_count": 31,
   "metadata": {},
   "outputs": [],
   "source": [
    "import requests\n",
    "from pyquery import PyQuery as pq\n",
    "import re\n",
    "import os\n",
    "from selenium import webdriver\n",
    "from selenium.common.exceptions import TimeoutException\n",
    "from selenium.webdriver.support import expected_conditions as EC\n",
    "from selenium.webdriver.common.by import By\n",
    "from selenium.webdriver.support.wait import WebDriverWait\n",
    "from bs4 import BeautifulSoup\n",
    "from time import sleep"
   ]
  },
  {
   "cell_type": "markdown",
   "metadata": {},
   "source": [
    "## Scrap Chinese Insurance Data"
   ]
  },
  {
   "cell_type": "markdown",
   "metadata": {},
   "source": [
    "### Wrap 2020-2021 Data From China Banking and Insurance Regulatory Commission"
   ]
  },
  {
   "cell_type": "markdown",
   "metadata": {},
   "source": [
    "#### Wrap Function"
   ]
  },
  {
   "cell_type": "code",
   "execution_count": 2,
   "metadata": {},
   "outputs": [],
   "source": [
    "#Get page 1-3\n",
    "def get_web(page):\n",
    "    r = requests.get('http://www.cbirc.gov.cn/cn/static/data/DocInfo/SelectDocByItemIdAndChild/data_itemId=954,pageIndex={page},pageSize=18.json'.format(page=page))\n",
    "    return r"
   ]
  },
  {
   "cell_type": "code",
   "execution_count": 3,
   "metadata": {},
   "outputs": [],
   "source": [
    "#Get page 4-6\n",
    "def get_web2(page):\n",
    "    cookies = {\n",
    "        'yfx_c_g_u_id_10006849': '_ck21121511293510955416158987436',\n",
    "        'yfx_f_l_v_t_10006849': 'f_t_1639538975091__r_t_1639538975091__v_t_1639546463631__r_c_0',\n",
    "    }\n",
    "\n",
    "    headers = {\n",
    "        'Proxy-Connection': 'keep-alive',\n",
    "        'Accept': '*/*',\n",
    "        'User-Agent': 'Mozilla/5.0 (Windows NT 10.0; Win64; x64) AppleWebKit/537.36 (KHTML, like Gecko) Chrome/96.0.4664.110 Safari/537.36',\n",
    "        'X-Requested-With': 'XMLHttpRequest',\n",
    "        'Referer': 'http://www.cbirc.gov.cn/cn/view/pages/ItemList.html?itemPId=953&itemId=954&itemUrl=ItemListRightList.html&itemName=%E7%BB%9F%E8%AE%A1%E4%BF%A1%E6%81%AF',\n",
    "        'Accept-Language': 'en,zh-CN;q=0.9,zh;q=0.8',\n",
    "    }\n",
    "\n",
    "    params = (\n",
    "        ('itemId', '954'),\n",
    "        ('pageSize', '18'),\n",
    "        ('pageIndex', '{page}'.format(page=page)),\n",
    "    )\n",
    "\n",
    "    r = requests.get('http://www.cbirc.gov.cn/cbircweb/DocInfo/SelectDocByItemIdAndChild', headers=headers, params=params, cookies=cookies, verify=False)\n",
    "    return r"
   ]
  },
  {
   "cell_type": "code",
   "execution_count": 4,
   "metadata": {},
   "outputs": [],
   "source": [
    "def get_seperate_page(docId):\n",
    "    url = 'http://www.cbirc.gov.cn/cn/view/pages/ItemDetail.html?docId={docId}&itemId=954&generaltype=0'.format(docId = docId)\n",
    "    #doc = pq(url)\n",
    "    return url"
   ]
  },
  {
   "cell_type": "markdown",
   "metadata": {},
   "source": [
    "#### Get DocId Dict"
   ]
  },
  {
   "cell_type": "markdown",
   "metadata": {},
   "source": [
    "##### Get dict for 2021 total"
   ]
  },
  {
   "cell_type": "code",
   "execution_count": 11,
   "metadata": {},
   "outputs": [
    {
     "name": "stdout",
     "output_type": "stream",
     "text": [
      "{'2021年10月保险业经营情况表': 1020664, '2021年9月保险业经营情况表': 1014403, '2021年8月保险业经营情况表': 1009929, '2021年7月保险业经营情况表': 1003572, '2021年6月保险业经营情况表': 1000291, '2021年5月保险业经营情况表': 992619, '2021年4月保险业经营情况表': 985887, '2021年3月保险业经营情况表': 979346, '2021年2月保险业经营情况表': 973010, '2021年1月保险业经营情况表': 969471}\n"
     ]
    }
   ],
   "source": [
    "pattern1 = re.compile('.*保险业经营情况表')\n",
    "def parse_page(pattern,json,dic):\n",
    "    if json:\n",
    "        items = json.get('data').get('rows')\n",
    "        for item in items:\n",
    "            if re.match(pattern,item.get('docSubtitle')):\n",
    "                dic[item.get('docSubtitle')] = item.get('docId')\n",
    "    #    print(dic)\n",
    "\n",
    "dic = {}\n",
    "for page in range(1,4):\n",
    "    r = get_web(page)\n",
    "    parse_page(pattern1,r.json(),dic)\n",
    "print(dic)"
   ]
  },
  {
   "cell_type": "code",
   "execution_count": 12,
   "metadata": {},
   "outputs": [
    {
     "data": {
      "text/plain": [
       "{'2020年12月保险业经营情况表': 963080,\n",
       " '2020年11月保险业经营情况表': 952787,\n",
       " '2020年10月保险业经营情况表': 945039,\n",
       " '2020年9月保险业经营情况表': 937163,\n",
       " '2020年8月保险业经营情况表': 931640,\n",
       " '2020年7月保险业经营情况表': 925152,\n",
       " '2020年6月保险业经营情况表': 918275,\n",
       " '2020年5月保险业经营情况表': 911957,\n",
       " '2020年4月保险业经营情况表': 906375,\n",
       " '2020年3月保险业经营情况表': 900170,\n",
       " '2020年2月保险业经营情况表': 896051,\n",
       " '2020年1月保险业经营情况表': 894619}"
      ]
     },
     "execution_count": 12,
     "metadata": {},
     "output_type": "execute_result"
    }
   ],
   "source": [
    "dic2 = {}\n",
    "for page in range(4,7):\n",
    "    r = get_web2(page)\n",
    "    parse_page(pattern1,r.json(),dic2)\n",
    "dic2"
   ]
  },
  {
   "cell_type": "code",
   "execution_count": 139,
   "metadata": {},
   "outputs": [
    {
     "data": {
      "text/plain": [
       "{'2019年1-4月保险业经营情况表': 367741,\n",
       " '2019年1-3月保险业经营情况表': 367742,\n",
       " '2019年1-2月保险业经营情况表': 367743,\n",
       " '2019年1月保险业经营情况表': 367744,\n",
       " '2018年保险业经营情况表': 367745,\n",
       " '2018年1-11月保险业经营情况表': 367746,\n",
       " '2018年1-10月保险业经营情况表': 367747,\n",
       " '2018年1-9月保险业经营情况表': 367748,\n",
       " '2018年1-8月保险业经营情况表': 367749,\n",
       " '2018年1-7月保险业经营情况表': 367750,\n",
       " '2018年1-6月保险业经营情况表': 367751,\n",
       " '2018年1-5月保险业经营情况表': 367571,\n",
       " '2018年1-4月保险业经营情况表': 367570,\n",
       " '2018年1-3月保险业经营情况表': 367572,\n",
       " '2018年1-2月保险业经营情况表': 367573,\n",
       " '2018年1月保险业经营情况表': 367574,\n",
       " '2017年保险业经营情况表': 367575}"
      ]
     },
     "execution_count": 139,
     "metadata": {},
     "output_type": "execute_result"
    }
   ],
   "source": [
    "dic5 = {}\n",
    "for page in range(9,14):\n",
    "    r = get_web2(page)\n",
    "    parse_page(pattern1,r.json(),dic5)\n",
    "dic5"
   ]
  },
  {
   "cell_type": "markdown",
   "metadata": {},
   "source": [
    "##### Get dict for 2021 Province"
   ]
  },
  {
   "cell_type": "code",
   "execution_count": 142,
   "metadata": {},
   "outputs": [
    {
     "name": "stdout",
     "output_type": "stream",
     "text": [
      "{'2021年10月全国各地区原保险保费收入情况表': 1020667, '2021年9月全国各地区原保险保费收入情况表': 1014417, '2021年8月全国各地区原保险保费收入情况表': 1009932, '2021年7月全国各地区原保险保费收入情况表': 1003582, '2021年6月全国各地区原保险保费收入情况表': 1000302, '2021年5月全国各地区原保险保费收入情况表': 992622, '2021年4月全国各地区原保险保费收入情况表': 985925, '2021年3月全国各地区原保险保费收入情况表': 979356, '2021年2月全国各地区原保险保费收入情况表': 973023, '2021年1月全国各地区原保险保费收入情况表': 969478}\n"
     ]
    }
   ],
   "source": [
    "pattern2 = re.compile('.*全国.*保费.*')\n",
    "\n",
    "dic3 = {}\n",
    "for page in range(1,4):\n",
    "    r = get_web(page)\n",
    "    parse_page(pattern2,r.json(),dic3)\n",
    "print(dic3)"
   ]
  },
  {
   "cell_type": "code",
   "execution_count": 145,
   "metadata": {},
   "outputs": [
    {
     "name": "stdout",
     "output_type": "stream",
     "text": [
      "{'2020年12月全国各地区原保险保费收入情况表': 963083, '2020年11月全国各地区原保险保费收入情况表': 952796, '2020年10月全国各地区原保险保费收入情况表': 945042, '2020年9月全国各地区原保险保费收入情况表': 937174, '2020年8月全国各地区原保险保费收入情况表': 931649, '2020年7月全国各地区原保险保费收入情况表': 925165, '2020年6月全国各地区原保险保费收入情况表': 918283, '2020年5月全国各地区原保险保费收入情况表': 911963, '2020年4月全国各地区原保险保费收入情况表': 906381, '2020年3月全国各地区原保险保费收入情况表': 900235, '2020年2月全国各地区原保险保费收入情况表': 896063, '2020年1月全国各地区原保险保费收入情况表': 894625}\n"
     ]
    }
   ],
   "source": [
    "dic4 = {}\n",
    "for page in range(4,7):\n",
    "    r = get_web2(page)\n",
    "    parse_page(pattern2,r.json(),dic4)\n",
    "print(dic4)"
   ]
  },
  {
   "cell_type": "code",
   "execution_count": 144,
   "metadata": {},
   "outputs": [
    {
     "name": "stdout",
     "output_type": "stream",
     "text": [
      "{'2019年1-3月全国各地区原保险保费收入情况表': 371582, '2019年1-2月全国各地区原保险保费收入情况表': 371581, '2019年1月全国各地区原保险保费收入情况表': 371580, '2018年全国各地区原保险保费收入情况表': 371579, '2018年1-11月全国各地区原保险保费收入情况表': 371578, '2018年1-10月全国各地区原保险保费收入情况表': 371577, '2018年1-9月全国各地区原保险保费收入情况表': 371576, '2018年1-8月全国各地区原保险保费收入情况表': 371575, '2018年1-7月全国各地区原保险保费收入情况表': 371574, '2018年1-6月全国各地区原保险保费收入情况表': 371573, '2018年1-5月全国各地区原保险保费收入情况表': 371572, '2018年1-4月全国各地区原保险保费收入情况表': 371571, '2018年1-3月全国各地区原保险保费收入情况表': 371570, '2018年1-2月全国各地区原保险保费收入情况表': 371569, '2018年1月全国各地区原保险保费收入情况表': 371568, '2017年全国各地区原保险保费收入情况表': 371567, '2017年1-11月全国各地区原保险保费收入情况表': 371566, '2017年1-10月全国各地区原保险保费收入情况表': 371565, '2017年1-9月全国各地区原保险保费收入情况表': 371564, '2017年1-8月全国各地区原保险保费收入情况表': 371563, '2017年1-7月全国各地区原保险保费收入情况表': 371562, '2017年1-6月全国各地区原保险保费收入情况表': 371561, '2017年1-5月全国各地区原保险保费收入情况表': 371560, '2017年1-4月全国各地区原保险保费收入情况表': 371559, '2017年1-3月全国各地区原保险保费收入情况表': 371558, '2017年1-2月全国各地区原保险保费收入情况表': 371557, '2017年1月全国各地区原保险保费收入情况表': 371556, '2016年全国各地区原保险保费收入情况表': 371555, '2016年1-11月全国各地区原保险保费收入情况表': 371554, '2016年1-10月全国各地区原保险保费收入情况表': 371553, '2016年1-9月全国各地区原保险保费收入情况表': 371552, '2016年1-8月全国各地区原保险保费收入情况表': 371551, '2016年1-7月全国各地区原保险保费收入情况表': 371550, '2016年1-6月全国各地区原保险保费收入情况表': 371549, '2016年1-5月全国各地区原保险保费收入情况表': 371548, '2016年1-4月全国各地区原保险保费收入情况表': 371547, '2016年1-3月全国各地区原保险保费收入情况表': 371546, '2016年1-2月全国各地区原保险保费收入情况表': 371545, '2016年1月全国各地区原保险保费收入情况表': 371544, '2015年全国各地区原保险保费收入情况表': 371543, '2015年1-11月全国各地区原保险保费收入情况表': 371542, '2015年1-10月全国各地区原保险保费收入情况表': 371541, '2015年1-9月全国各地区原保险保费收入情况表': 371540, '2015年1-8月全国各地区原保险保费收入情况表': 371539, '2015年1-7月全国各地区原保险保费收入情况表': 371538, '2015年1-6月全国各地区原保险保费收入情况表': 371537, '2015年1-5月全国各地区原保险保费收入情况表': 371536, '2015年1-4月全国各地区原保险保费收入情况表': 371535, '2015年1-3月全国各地区原保险保费收入情况表': 371534, '2015年1-2月全国各地区原保险保费收入情况表': 371533, '2015年1月全国各地区原保险保费收入情况表': 371532, '2014年全国各地区原保险保费收入情况表': 371531, '2014年1-11月全国各地区原保险保费收入情况表': 371530, '2014年1-10月全国各地区原保险保费收入情况表': 371529, '2014年1-9月全国各地区原保险保费收入情况表': 371528}\n"
     ]
    }
   ],
   "source": [
    "dic6 = {}\n",
    "for page in range(9,27):\n",
    "    r = get_web2(page)\n",
    "    parse_page(pattern2,r.json(),dic6)\n",
    "print(dic6)"
   ]
  },
  {
   "cell_type": "code",
   "execution_count": 22,
   "metadata": {},
   "outputs": [
    {
     "data": {
      "text/plain": [
       "'raw_province'"
      ]
     },
     "execution_count": 22,
     "metadata": {},
     "output_type": "execute_result"
    }
   ],
   "source": [
    "def get_file_last(path):\n",
    "    dir_list = os.listdir(path)\n",
    "    dir_list = sorted(dir_list,key=lambda x: os.path.getmtime(os.path.join(path, x)))\n",
    "    return dir_list[-1]\n",
    "get_file_last(\"/mnt/d/data_science/Insurance_report/data/\")"
   ]
  },
  {
   "cell_type": "markdown",
   "metadata": {},
   "source": [
    "#### Download Data Function"
   ]
  },
  {
   "cell_type": "markdown",
   "metadata": {},
   "source": [
    "##### Download all-year data\n"
   ]
  },
  {
   "cell_type": "code",
   "execution_count": 21,
   "metadata": {},
   "outputs": [],
   "source": [
    "#Driver Setting\n",
    "Timeout = 10\n",
    "raw_data_path = \"/mnt/d/data_science/Insurance_report/data/raw/\"\n",
    "fp = webdriver.FirefoxProfile()\n",
    "fp.set_preference(\"browser.download.folderList\", 2)        \n",
    "fp.set_preference(\"browser.download.dir\", raw_data_path)\n",
    "fp.set_preference(\"browser.download.manager.showWhenStarting\",False)\n",
    "fp.set_preference(\"browser.helperApps.neverAsk.saveToDisk\", \"application/vnd.ms-excel;application/vnd.openxmlformats-officedocument.spreadsheetml.sheet\")\n",
    "\n",
    "def get_one_file(driver,key,val):\n",
    "    count = len(os.listdir(raw_data_path))\n",
    "    driver.get(get_seperate_page(val))\n",
    "    driver.find_element_by_xpath('/html/body/div[2]/div[3]/div[2]/div[2]/div/div[5]/ul/li/a').click()\n",
    "    if len(os.listdir(raw_data_path)) == count + 1:\n",
    "        file = raw_data_path + get_file_last(raw_data_path)\n",
    "        os.rename(file, raw_data_path + '{key}.xlsx'.format(key=key))\n",
    "        print(\"Success\")\n",
    "\n",
    "\n"
   ]
  },
  {
   "cell_type": "markdown",
   "metadata": {},
   "source": [
    "##### Download province data"
   ]
  },
  {
   "cell_type": "code",
   "execution_count": 33,
   "metadata": {},
   "outputs": [],
   "source": [
    "raw_data_path_province = \"/mnt/d/data_science/Insurance_report/data/raw_province/\"\n",
    "fp2 = webdriver.FirefoxProfile()\n",
    "fp2.set_preference(\"browser.download.folderList\", 2)        \n",
    "fp2.set_preference(\"browser.download.dir\", raw_data_path_province)\n",
    "fp2.set_preference(\"browser.download.manager.showWhenStarting\",False)\n",
    "fp2.set_preference(\"browser.helperApps.neverAsk.saveToDisk\", \"application/vnd.ms-excel;application/vnd.openxmlformats-officedocument.spreadsheetml.sheet\")\n",
    "\n",
    "button = '/html/body/div[2]/div[3]/div[2]/div[2]/div/div[5]/ul/li/a'\n",
    "def get_one_file_province(driver,key,val):\n",
    "    count = len(os.listdir(raw_data_path_province))\n",
    "    driver.get(get_seperate_page(val))\n",
    "    wait = WebDriverWait(driver,10)\n",
    "    input = wait.until(EC.presence_of_element_located((By.XPATH,button)))\n",
    "    input.find_element_by_xpath(button).click()\n",
    "    if len(os.listdir(raw_data_path_province)) == count + 1:\n",
    "        file = raw_data_path_province + get_file_last(raw_data_path_province)\n",
    "        os.rename(file, raw_data_path_province + '{key}.xlsx'.format(key=key))\n",
    "        print(\"Success\")\n",
    "\n"
   ]
  },
  {
   "cell_type": "markdown",
   "metadata": {},
   "source": [
    "##### Get all-Year data"
   ]
  },
  {
   "cell_type": "code",
   "execution_count": null,
   "metadata": {},
   "outputs": [],
   "source": [
    "driver = webdriver.Firefox(firefox_profile=fp)\n",
    "\n",
    "for key,val in dic.items():    \n",
    "    try:\n",
    "        print(\"The page is about {key}\\n\".format(key=key))\n",
    "        get_one_file(driver,key,val)\n",
    "        sleep(3)\n",
    "    except:\n",
    "        print(key,'\\tFailed')\n",
    "        get_one_file(driver,key,val)\n",
    "        #continue"
   ]
  },
  {
   "cell_type": "markdown",
   "metadata": {},
   "source": [
    "###### Test"
   ]
  },
  {
   "cell_type": "code",
   "execution_count": 15,
   "metadata": {},
   "outputs": [],
   "source": [
    "driver = webdriver.Firefox(firefox_profile=fp)\n",
    "driver.get(get_seperate_page((dic['2021年5月保险业经营情况表'])))\n",
    "driver.find_element_by_xpath('/html/body/div[2]/div[3]/div[2]/div[2]/div/div[5]/ul/li/a').click()"
   ]
  },
  {
   "cell_type": "code",
   "execution_count": null,
   "metadata": {},
   "outputs": [],
   "source": [
    "driver = webdriver.Firefox(firefox_profile=fp)\n",
    "for key,val in dic2.items():    \n",
    "    try:\n",
    "        print(\"The page is about {key}\\n\".format(key=key))\n",
    "        get_one_file(driver,key,val)\n",
    "        sleep(3)\n",
    "    except:\n",
    "        print(key,'\\tFailed')\n",
    "        get_one_file(driver,key,val)\n",
    "        #continue"
   ]
  },
  {
   "cell_type": "markdown",
   "metadata": {},
   "source": [
    "##### Get province data"
   ]
  },
  {
   "cell_type": "code",
   "execution_count": 19,
   "metadata": {},
   "outputs": [],
   "source": [
    "tmp ={**dic3,**dic4}"
   ]
  },
  {
   "cell_type": "code",
   "execution_count": null,
   "metadata": {},
   "outputs": [],
   "source": [
    "driver = webdriver.Firefox(firefox_profile=fp2)\n",
    "for key,val in tmp.items():    \n",
    "    if f'{key}.xlsx' not in os.listdir(raw_data_path_province):\n",
    "        try:\n",
    "            print(\"The page is about {key}\\n\".format(key=key))\n",
    "            get_one_file_province(driver,key,val)\n",
    "            #break\n",
    "            sleep(3)\n",
    "        \n",
    "        except:\n",
    "            print(key,'\\tFailed')\n",
    "            get_one_file(driver,key,val)\n",
    "            continue\n",
    "    else:\n",
    "        print(key + 'already existed')"
   ]
  },
  {
   "cell_type": "markdown",
   "metadata": {},
   "source": [
    "### Data Processing"
   ]
  },
  {
   "cell_type": "code",
   "execution_count": 41,
   "metadata": {},
   "outputs": [],
   "source": [
    "import pandas as pd\n",
    "import numpy as np\n"
   ]
  },
  {
   "cell_type": "markdown",
   "metadata": {},
   "source": [
    "#### Processing All-year data"
   ]
  },
  {
   "cell_type": "code",
   "execution_count": 38,
   "metadata": {},
   "outputs": [],
   "source": [
    "def file_path(path):\n",
    "    return sorted(os.listdir(raw_data_path)[:-1],key=lambda x: os.path.getmtime(os.path.join(raw_data_path, x)))\n",
    "file = file_path(raw_data_path)"
   ]
  },
  {
   "cell_type": "code",
   "execution_count": 11,
   "metadata": {},
   "outputs": [],
   "source": [
    "processed_path = '/mnt/d/data_science/Insurance_report/data/processed'"
   ]
  },
  {
   "cell_type": "code",
   "execution_count": 152,
   "metadata": {},
   "outputs": [],
   "source": [
    "def clean_column(columns_list):\n",
    "    \"\"\"\n",
    "    这个代码负责将表格的列名称清洗干净（就是将一些二级标题、三级标题都转换成完整的名称：{一级标题}-{二级标题}-{三级标题})\n",
    "    如果标题是一级标题 -> 一级标题\n",
    "    如果标题是二级标题 -> {一级标题}-{二级标题}\n",
    "    如果标题是三级标题 -> {一级标题}-{二级标题}-{三级标题}\n",
    "\n",
    "    这么一做，每一个表的列名称就不会混淆\n",
    "\n",
    "    \"\"\"\n",
    "\n",
    "    column_data = pd.DataFrame({'column_name':[i.replace(\" \", '') for i in columns_list]})\n",
    "    # 做一级填充\n",
    "    column_data['class_1'] = column_data['column_name'].apply(lambda x: len(re.findall(pattern='[0-9]+、', string=x)) !=1)#[len(re.findall(pattern='[0-9]+、', string=temp_column)) !=1 for temp_column in columns_list]\n",
    "    column_data['class_1_name'] = column_data['column_name']\n",
    "    column_data.loc[column_data['class_1']== False, 'class_1_name'] = np.nan\n",
    "    column_data['class_1_name'] = column_data['class_1_name'].ffill()\n",
    "    # column_data.loc[column_data['column_name'] != column_data['class_1_name'],'class_1_name'] = \\\n",
    "    #     column_data.loc[column_data['column_name'] != column_data['class_1_name'],:].apply(lambda x: f\"{x['class_1_name']}__{x['column_name']}\", axis=1)\n",
    "    column_data.loc[column_data['class_1'] == False,'class_1_name'] = \\\n",
    "        column_data.loc[column_data['class_1'] == False,:].apply(lambda x: f\"{x['class_1_name']}__{x['column_name']}\", axis=1)\n",
    "    # 做二级填充\n",
    "\n",
    "    column_data['class_2'] = column_data['column_name'].apply(lambda x: len(re.findall(pattern='（[0-9]+）', string=x))!=1)\n",
    "\n",
    "    column_data['class_2_name'] = column_data['class_1_name']\n",
    "    column_data.loc[column_data['class_2'] == False, 'class_2_name'] = np.nan\n",
    "    column_data['class_2_name'] = column_data['class_2_name'].ffill()\n",
    "\n",
    "    column_data.loc[column_data['class_2'] == False, 'class_2_name'] = column_data.loc[column_data['class_2'] == False, :].apply(lambda x: f\"{x['class_2_name']}__{x['column_name']}\", axis=1)\n",
    "\n",
    "    return column_data['class_2_name'].tolist()"
   ]
  },
  {
   "cell_type": "code",
   "execution_count": 62,
   "metadata": {},
   "outputs": [],
   "source": [
    "def get_one_data(i):\n",
    "    try:\n",
    "        data = pd.read_excel(raw_data_path + i,engine = 'openpyxl',skiprows=2).drop('Unnamed: 0',axis = 1).dropna()\n",
    "    except:\n",
    "        data = pd.read_excel(raw_data_path + i,engine = 'xlrd',skiprows=2).drop('Unnamed: 0',axis = 1).dropna()\n",
    "    data = data.set_index('项目').T.reset_index(drop=True)\n",
    "    columns_list = data.columns.tolist()\n",
    "    data.columns = clean_column(columns_list)\n",
    "    data['info'] = '{i}'.format(i = i[:-6])\n",
    "    return data\n",
    "#data"
   ]
  },
  {
   "cell_type": "code",
   "execution_count": 60,
   "metadata": {},
   "outputs": [
    {
     "name": "stdout",
     "output_type": "stream",
     "text": [
      "2021年6月保险业经营情况表.xlsx\n"
     ]
    }
   ],
   "source": [
    "dd = pd.DataFrame()\n",
    "for i in file:\n",
    "    try:\n",
    "        tmp = get_one_data(i)\n",
    "        dd = dd.append(tmp)\n",
    "    except:\n",
    "        print(i)"
   ]
  },
  {
   "cell_type": "code",
   "execution_count": null,
   "metadata": {},
   "outputs": [],
   "source": [
    "data = pd.read_excel(raw_data_path + '2021年6月保险业经营情况表.xlsx',engine = 'openpyxl',skiprows=2).drop(['Unnamed: 0','Unnamed: 3'],axis = 1).dropna()\n",
    "data = data.set_index('项目').T.reset_index(drop=True)\n",
    "#data\n",
    "columns_list = data.columns.tolist()\n",
    "data.columns = clean_column(columns_list)\n",
    "data['info'] = '2021年6月保险业经营情况'\n",
    "data\n",
    "dd = dd.append(data)"
   ]
  },
  {
   "cell_type": "code",
   "execution_count": 52,
   "metadata": {},
   "outputs": [
    {
     "data": {
      "text/plain": [
       "<xlrd.book.Book at 0x7ff78aa81668>"
      ]
     },
     "execution_count": 52,
     "metadata": {},
     "output_type": "execute_result"
    }
   ],
   "source": [
    "import xlrd\n",
    "#xlrd.open_workbook(raw_data_path + '2021年5月保险业经营情况表.xlsx')"
   ]
  },
  {
   "cell_type": "code",
   "execution_count": 73,
   "metadata": {},
   "outputs": [],
   "source": [
    "dd.to_csv('../data/industry_new.csv',index=False)"
   ]
  },
  {
   "cell_type": "markdown",
   "metadata": {},
   "source": [
    "#### Processing province data"
   ]
  },
  {
   "cell_type": "code",
   "execution_count": null,
   "metadata": {},
   "outputs": [],
   "source": [
    "province_file = file_path(raw_data_path_province)\n",
    "province_file"
   ]
  },
  {
   "cell_type": "code",
   "execution_count": 77,
   "metadata": {},
   "outputs": [],
   "source": [
    "def get_one_data_province(i):\n",
    "    try:\n",
    "        data = pd.read_excel('../data/raw_province/' + i,engine = 'openpyxl',skiprows=4)\n",
    "    except:\n",
    "        data = pd.read_excel('../data/raw_province/' + i,engine = 'xlrd',skiprows=4)\n",
    "    data = data[data.columns.drop(list(data.filter(regex='Unname')))].dropna()\n",
    "    #data = data.set_index('项目').T.reset_index(drop=True)\n",
    "    #columns_list = data.columns.tolist()\n",
    "    #data.columns = clean_column(columns_list)\n",
    "    data['info'] = '{i}'.format(i = i[:-6])\n",
    "    return data"
   ]
  },
  {
   "cell_type": "code",
   "execution_count": null,
   "metadata": {},
   "outputs": [],
   "source": [
    "get_one_data_province(os.listdir('../data/raw_province')[0])"
   ]
  },
  {
   "cell_type": "code",
   "execution_count": 80,
   "metadata": {},
   "outputs": [
    {
     "data": {
      "text/html": [
       "<div>\n",
       "<style scoped>\n",
       "    .dataframe tbody tr th:only-of-type {\n",
       "        vertical-align: middle;\n",
       "    }\n",
       "\n",
       "    .dataframe tbody tr th {\n",
       "        vertical-align: top;\n",
       "    }\n",
       "\n",
       "    .dataframe thead th {\n",
       "        text-align: right;\n",
       "    }\n",
       "</style>\n",
       "<table border=\"1\" class=\"dataframe\">\n",
       "  <thead>\n",
       "    <tr style=\"text-align: right;\">\n",
       "      <th></th>\n",
       "      <th>地区</th>\n",
       "      <th>合计</th>\n",
       "      <th>财产保险</th>\n",
       "      <th>寿险</th>\n",
       "      <th>意外险</th>\n",
       "      <th>健康险</th>\n",
       "      <th>info</th>\n",
       "    </tr>\n",
       "  </thead>\n",
       "  <tbody>\n",
       "    <tr>\n",
       "      <th>0</th>\n",
       "      <td>全国合计</td>\n",
       "      <td>39608.32</td>\n",
       "      <td>10047.86</td>\n",
       "      <td>21394.57</td>\n",
       "      <td>1003.80</td>\n",
       "      <td>7162.08</td>\n",
       "      <td>2020年10月全国各地区原保险保费收入情况</td>\n",
       "    </tr>\n",
       "    <tr>\n",
       "      <th>1</th>\n",
       "      <td>集团、总公司本级</td>\n",
       "      <td>57.22</td>\n",
       "      <td>50.76</td>\n",
       "      <td>0.02</td>\n",
       "      <td>2.70</td>\n",
       "      <td>3.74</td>\n",
       "      <td>2020年10月全国各地区原保险保费收入情况</td>\n",
       "    </tr>\n",
       "    <tr>\n",
       "      <th>2</th>\n",
       "      <td>北   京</td>\n",
       "      <td>1950.61</td>\n",
       "      <td>371.68</td>\n",
       "      <td>1120.89</td>\n",
       "      <td>58.07</td>\n",
       "      <td>399.97</td>\n",
       "      <td>2020年10月全国各地区原保险保费收入情况</td>\n",
       "    </tr>\n",
       "    <tr>\n",
       "      <th>3</th>\n",
       "      <td>天   津</td>\n",
       "      <td>587.32</td>\n",
       "      <td>139.67</td>\n",
       "      <td>338.10</td>\n",
       "      <td>17.64</td>\n",
       "      <td>91.92</td>\n",
       "      <td>2020年10月全国各地区原保险保费收入情况</td>\n",
       "    </tr>\n",
       "    <tr>\n",
       "      <th>4</th>\n",
       "      <td>河   北</td>\n",
       "      <td>1848.08</td>\n",
       "      <td>505.42</td>\n",
       "      <td>986.82</td>\n",
       "      <td>34.61</td>\n",
       "      <td>321.23</td>\n",
       "      <td>2020年10月全国各地区原保险保费收入情况</td>\n",
       "    </tr>\n",
       "    <tr>\n",
       "      <th>...</th>\n",
       "      <td>...</td>\n",
       "      <td>...</td>\n",
       "      <td>...</td>\n",
       "      <td>...</td>\n",
       "      <td>...</td>\n",
       "      <td>...</td>\n",
       "      <td>...</td>\n",
       "    </tr>\n",
       "    <tr>\n",
       "      <th>33</th>\n",
       "      <td>青   海</td>\n",
       "      <td>86.85</td>\n",
       "      <td>33.48</td>\n",
       "      <td>36.27</td>\n",
       "      <td>2.72</td>\n",
       "      <td>14.39</td>\n",
       "      <td>2021年9月全国各地区原保险保费收入情况</td>\n",
       "    </tr>\n",
       "    <tr>\n",
       "      <th>34</th>\n",
       "      <td>宁   夏</td>\n",
       "      <td>174.28</td>\n",
       "      <td>50.54</td>\n",
       "      <td>86.97</td>\n",
       "      <td>5.65</td>\n",
       "      <td>31.12</td>\n",
       "      <td>2021年9月全国各地区原保险保费收入情况</td>\n",
       "    </tr>\n",
       "    <tr>\n",
       "      <th>35</th>\n",
       "      <td>新   疆</td>\n",
       "      <td>572.72</td>\n",
       "      <td>186.97</td>\n",
       "      <td>261.52</td>\n",
       "      <td>14.22</td>\n",
       "      <td>110.00</td>\n",
       "      <td>2021年9月全国各地区原保险保费收入情况</td>\n",
       "    </tr>\n",
       "    <tr>\n",
       "      <th>36</th>\n",
       "      <td>内蒙古</td>\n",
       "      <td>530.66</td>\n",
       "      <td>159.82</td>\n",
       "      <td>258.55</td>\n",
       "      <td>12.38</td>\n",
       "      <td>99.91</td>\n",
       "      <td>2021年9月全国各地区原保险保费收入情况</td>\n",
       "    </tr>\n",
       "    <tr>\n",
       "      <th>37</th>\n",
       "      <td>广   西</td>\n",
       "      <td>648.35</td>\n",
       "      <td>178.09</td>\n",
       "      <td>301.35</td>\n",
       "      <td>22.78</td>\n",
       "      <td>146.13</td>\n",
       "      <td>2021年9月全国各地区原保险保费收入情况</td>\n",
       "    </tr>\n",
       "  </tbody>\n",
       "</table>\n",
       "<p>836 rows × 7 columns</p>\n",
       "</div>"
      ],
      "text/plain": [
       "          地区        合计      财产保险        寿险      意外险      健康险  \\\n",
       "0       全国合计  39608.32  10047.86  21394.57  1003.80  7162.08   \n",
       "1   集团、总公司本级     57.22     50.76      0.02     2.70     3.74   \n",
       "2      北   京   1950.61    371.68   1120.89    58.07   399.97   \n",
       "3      天   津    587.32    139.67    338.10    17.64    91.92   \n",
       "4      河   北   1848.08    505.42    986.82    34.61   321.23   \n",
       "..       ...       ...       ...       ...      ...      ...   \n",
       "33     青   海     86.85     33.48     36.27     2.72    14.39   \n",
       "34     宁   夏    174.28     50.54     86.97     5.65    31.12   \n",
       "35     新   疆    572.72    186.97    261.52    14.22   110.00   \n",
       "36       内蒙古    530.66    159.82    258.55    12.38    99.91   \n",
       "37     广   西    648.35    178.09    301.35    22.78   146.13   \n",
       "\n",
       "                      info  \n",
       "0   2020年10月全国各地区原保险保费收入情况  \n",
       "1   2020年10月全国各地区原保险保费收入情况  \n",
       "2   2020年10月全国各地区原保险保费收入情况  \n",
       "3   2020年10月全国各地区原保险保费收入情况  \n",
       "4   2020年10月全国各地区原保险保费收入情况  \n",
       "..                     ...  \n",
       "33   2021年9月全国各地区原保险保费收入情况  \n",
       "34   2021年9月全国各地区原保险保费收入情况  \n",
       "35   2021年9月全国各地区原保险保费收入情况  \n",
       "36   2021年9月全国各地区原保险保费收入情况  \n",
       "37   2021年9月全国各地区原保险保费收入情况  \n",
       "\n",
       "[836 rows x 7 columns]"
      ]
     },
     "execution_count": 80,
     "metadata": {},
     "output_type": "execute_result"
    }
   ],
   "source": [
    "dd_pro = pd.DataFrame()\n",
    "for i in os.listdir('../data/raw_province'):\n",
    "    try:\n",
    "        tmp = get_one_data_province(i)\n",
    "        dd_pro = dd_pro.append(tmp)\n",
    "    except:\n",
    "        print(i)\n",
    "dd_pro"
   ]
  },
  {
   "cell_type": "code",
   "execution_count": 81,
   "metadata": {},
   "outputs": [],
   "source": [
    "dd_pro.to_csv('../data/new_data_by_province.csv',index = False)"
   ]
  },
  {
   "cell_type": "code",
   "execution_count": 72,
   "metadata": {},
   "outputs": [
    {
     "data": {
      "text/plain": [
       "<xlrd.book.Book at 0x7ff78aa71e48>"
      ]
     },
     "execution_count": 72,
     "metadata": {},
     "output_type": "execute_result"
    }
   ],
   "source": [
    "xlrd.open_workbook('../data/raw_province/' + os.listdir('../data/raw_province')[0])"
   ]
  },
  {
   "cell_type": "markdown",
   "metadata": {},
   "source": [
    "### Using selenium to scrape web table"
   ]
  },
  {
   "cell_type": "markdown",
   "metadata": {},
   "source": [
    "#### Part 1. Scrap 18-19 All-Year Data"
   ]
  },
  {
   "cell_type": "code",
   "execution_count": 234,
   "metadata": {},
   "outputs": [],
   "source": [
    "#raw_data_path_province = \"/mnt/d/data_science/Insurance_report/data/raw_province/\"\n",
    "fp3 = webdriver.FirefoxProfile()\n",
    "#fp3.set_preference(\"browser.download.folderList\", 2)        \n",
    "#fp3.set_preference(\"browser.download.dir\", raw_data_path_province)\n",
    "fp3.set_preference(\"browser.download.manager.showWhenStarting\",False)\n",
    "#fp2.set_preference(\"browser.helperApps.neverAsk.saveToDisk\", \"application/vnd.ms-excel;application/vnd.openxmlformats-officedocument.spreadsheetml.sheet\")\n",
    "\n",
    "def get_page_table(key,val):\n",
    "    driver.get(f'http://www.cbirc.gov.cn/cn/view/pages/ItemDetail.html?docId={val}&itemId=954&generaltype=0')\n",
    "    wait = WebDriverWait(driver,10)\n",
    "    input = wait.until(EC.presence_of_all_elements_located((By.XPATH,'/html/body')))\n",
    "    doc = pq(driver.page_source)\n",
    "    items = doc('tr').items()\n",
    "    ls = []\n",
    "    for item in items:\n",
    "        ls.append(item('p')('span').text())\n",
    "    ls = [x for x in ls if '单位' not in x and x != '']\n",
    "    if '项目' not in ls[0]:\n",
    "        ls.insert(0,'项目  本年累计/截至当期')\n",
    "    tmp_d = pd.Series(ls).astype(str).str.split(r'\\s+(?=\\d{2,}|本.*)',expand = True)\n",
    "    tmp_d.columns = tmp_d.iloc[0]\n",
    "    tmp_d = tmp_d[1:]\n",
    "    tmp_d = tmp_d.set_index('项目').T.reset_index(drop=True)\n",
    "    columns_list = tmp_d.columns.tolist()\n",
    "    tmp_d.columns = clean_column(columns_list)   \n",
    "    tmp_d['info'] = f'{key[:-1]}'\n",
    "    return tmp_d\n"
   ]
  },
  {
   "cell_type": "code",
   "execution_count": 239,
   "metadata": {},
   "outputs": [
    {
     "name": "stdout",
     "output_type": "stream",
     "text": [
      "2018年1-7月保险业经营情况表 \tfailed\n",
      "2018年1-7月保险业经营情况表\n",
      "2018年1-4月保险业经营情况表 \tfailed\n",
      "2018年1-4月保险业经营情况表\n",
      "2018年1-3月保险业经营情况表 \tfailed\n",
      "2018年1-3月保险业经营情况表\n"
     ]
    }
   ],
   "source": [
    "d_before = pd.DataFrame()\n",
    "driver = webdriver.Firefox(firefox_profile=fp3)\n",
    "for key,val in dic5.items():\n",
    "    try:\n",
    "        tmp = get_page_table(key,val)\n",
    "        d_before = d_before.append(tmp)\n",
    "        print(key,'\\tsuccess')\n",
    "        sleep(3)\n",
    "    except:\n",
    "        print(key,'\\tfailed')\n",
    "        tmp = get_page_table(key,val)\n",
    "        d_before = d_before.append(tmp)\n",
    "        sleep(3)"
   ]
  },
  {
   "cell_type": "code",
   "execution_count": null,
   "metadata": {},
   "outputs": [],
   "source": [
    "d_before = d_before.reset_index(drop=True)\n",
    "d_before.to_csv('../data/industry_old.csv',index=False)"
   ]
  },
  {
   "cell_type": "code",
   "execution_count": null,
   "metadata": {},
   "outputs": [],
   "source": [
    "#driver = webdriver.Firefox(firefox_profile=fp3)\n",
    "get_page_table('x',367744)"
   ]
  },
  {
   "cell_type": "code",
   "execution_count": null,
   "metadata": {},
   "outputs": [],
   "source": []
  }
 ],
 "metadata": {
  "kernelspec": {
   "display_name": "Python 3",
   "language": "python",
   "name": "python3"
  },
  "orig_nbformat": 4
 },
 "nbformat": 4,
 "nbformat_minor": 2
}
