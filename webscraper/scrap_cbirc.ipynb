{
 "cells": [
  {
   "cell_type": "code",
   "execution_count": 2,
   "metadata": {},
   "outputs": [],
   "source": [
    "import requests\n",
    "from pyquery import PyQuery as pq\n",
    "import re\n",
    "import os\n",
    "from selenium import webdriver\n",
    "from bs4 import BeautifulSoup\n",
    "from time import sleep"
   ]
  },
  {
   "cell_type": "markdown",
   "metadata": {},
   "source": [
    "### Wrap 2020-2021 Data From China Banking and Insurance Regulatory Commission"
   ]
  },
  {
   "cell_type": "markdown",
   "metadata": {},
   "source": [
    "#### Wrap Function"
   ]
  },
  {
   "cell_type": "code",
   "execution_count": 3,
   "metadata": {},
   "outputs": [],
   "source": [
    "#Get page 1-3\n",
    "def get_web(page):\n",
    "    r = requests.get('http://www.cbirc.gov.cn/cn/static/data/DocInfo/SelectDocByItemIdAndChild/data_itemId=954,pageIndex={page},pageSize=18.json'.format(page=page))\n",
    "    return r"
   ]
  },
  {
   "cell_type": "code",
   "execution_count": 18,
   "metadata": {},
   "outputs": [],
   "source": [
    "#Get page 4-6\n",
    "def get_web2(page):\n",
    "    cookies = {\n",
    "        'yfx_c_g_u_id_10006849': '_ck21121511293510955416158987436',\n",
    "        'yfx_f_l_v_t_10006849': 'f_t_1639538975091__r_t_1639538975091__v_t_1639546463631__r_c_0',\n",
    "    }\n",
    "\n",
    "    headers = {\n",
    "        'Proxy-Connection': 'keep-alive',\n",
    "        'Accept': '*/*',\n",
    "        'User-Agent': 'Mozilla/5.0 (Windows NT 10.0; Win64; x64) AppleWebKit/537.36 (KHTML, like Gecko) Chrome/96.0.4664.110 Safari/537.36',\n",
    "        'X-Requested-With': 'XMLHttpRequest',\n",
    "        'Referer': 'http://www.cbirc.gov.cn/cn/view/pages/ItemList.html?itemPId=953&itemId=954&itemUrl=ItemListRightList.html&itemName=%E7%BB%9F%E8%AE%A1%E4%BF%A1%E6%81%AF',\n",
    "        'Accept-Language': 'en,zh-CN;q=0.9,zh;q=0.8',\n",
    "    }\n",
    "\n",
    "    params = (\n",
    "        ('itemId', '954'),\n",
    "        ('pageSize', '18'),\n",
    "        ('pageIndex', '{page}'.format(page=page)),\n",
    "    )\n",
    "\n",
    "    r = requests.get('http://www.cbirc.gov.cn/cbircweb/DocInfo/SelectDocByItemIdAndChild', headers=headers, params=params, cookies=cookies, verify=False)\n",
    "    return r"
   ]
  },
  {
   "cell_type": "code",
   "execution_count": 5,
   "metadata": {},
   "outputs": [],
   "source": [
    "def get_seperate_page(docId):\n",
    "    url = 'http://www.cbirc.gov.cn/cn/view/pages/ItemDetail.html?docId={docId}&itemId=954&generaltype=0'.format(docId = docId)\n",
    "    #doc = pq(url)\n",
    "    return url"
   ]
  },
  {
   "cell_type": "markdown",
   "metadata": {},
   "source": [
    "#### Get DocId Dict"
   ]
  },
  {
   "cell_type": "code",
   "execution_count": null,
   "metadata": {},
   "outputs": [],
   "source": [
    "pattern = re.compile('.*保险业经营情况表')\n",
    "def parse_page(json,dic):\n",
    "    if json:\n",
    "        items = json.get('data').get('rows')\n",
    "        for item in items:\n",
    "            if re.match(pattern,item.get('docSubtitle')):\n",
    "                dic[item.get('docSubtitle')] = item.get('docId')\n",
    "    #    print(dic)\n",
    "\n",
    "dic = {}\n",
    "for page in range(1,4):\n",
    "    r = get_web(page)\n",
    "    parse_page(r.json(),dic)\n",
    "print(dic)"
   ]
  },
  {
   "cell_type": "code",
   "execution_count": 8,
   "metadata": {},
   "outputs": [
    {
     "data": {
      "text/plain": [
       "'raw'"
      ]
     },
     "execution_count": 8,
     "metadata": {},
     "output_type": "execute_result"
    }
   ],
   "source": [
    "def get_file_last(path):\n",
    "    dir_list = os.listdir(path)\n",
    "    dir_list = sorted(dir_list,key=lambda x: os.path.getmtime(os.path.join(path, x)))\n",
    "    return dir_list[-1]\n",
    "get_file_last(\"/mnt/d/data_science/Insurance_report/data/\")"
   ]
  },
  {
   "cell_type": "markdown",
   "metadata": {},
   "source": [
    "#### Download Data Function"
   ]
  },
  {
   "cell_type": "code",
   "execution_count": 3,
   "metadata": {},
   "outputs": [],
   "source": [
    "#Driver Setting\n",
    "raw_data_path = \"/mnt/d/data_science/Insurance_report/data/raw/\"\n",
    "fp = webdriver.FirefoxProfile()\n",
    "fp.set_preference(\"browser.download.folderList\", 2)        \n",
    "fp.set_preference(\"browser.download.dir\", raw_data_path)\n",
    "fp.set_preference(\"browser.download.manager.showWhenStarting\",False)\n",
    "fp.set_preference(\"browser.helperApps.neverAsk.saveToDisk\", \"application/vnd.ms-excel;application/vnd.openxmlformats-officedocument.spreadsheetml.sheet\")\n",
    "\n",
    "def get_one_file(driver,key,val):\n",
    "    count = len(os.listdir(raw_data_path))\n",
    "    driver.get(get_seperate_page(val))\n",
    "    driver.find_element_by_xpath('/html/body/div[2]/div[3]/div[2]/div[2]/div/div[5]/ul/li/a').click()\n",
    "    if len(os.listdir(raw_data_path)) == count + 1:\n",
    "        file = raw_data_path + get_file_last(raw_data_path)\n",
    "        os.rename(file, raw_data_path + '{key}.xlsx'.format(key=key))\n",
    "        print(\"Success\")\n",
    "\n",
    "\n"
   ]
  },
  {
   "cell_type": "code",
   "execution_count": null,
   "metadata": {},
   "outputs": [],
   "source": [
    "driver = webdriver.Firefox(firefox_profile=fp)\n",
    "for key,val in dic.items():    \n",
    "    try:\n",
    "        print(\"The page is about {key}\\n\".format(key=key))\n",
    "        get_one_file(driver,key,val)\n",
    "        sleep(3)\n",
    "    except:\n",
    "        print(key,'\\tFailed')\n",
    "        get_one_file(driver,key,val)\n",
    "        #continue"
   ]
  },
  {
   "cell_type": "code",
   "execution_count": 15,
   "metadata": {},
   "outputs": [],
   "source": [
    "driver = webdriver.Firefox(firefox_profile=fp)\n",
    "driver.get(get_seperate_page((dic['2021年5月保险业经营情况表'])))\n",
    "driver.find_element_by_xpath('/html/body/div[2]/div[3]/div[2]/div[2]/div/div[5]/ul/li/a').click()"
   ]
  },
  {
   "cell_type": "code",
   "execution_count": 21,
   "metadata": {},
   "outputs": [
    {
     "data": {
      "text/plain": [
       "{'2020年12月保险业经营情况表': 963080,\n",
       " '2020年11月保险业经营情况表': 952787,\n",
       " '2020年10月保险业经营情况表': 945039,\n",
       " '2020年9月保险业经营情况表': 937163,\n",
       " '2020年8月保险业经营情况表': 931640,\n",
       " '2020年7月保险业经营情况表': 925152,\n",
       " '2020年6月保险业经营情况表': 918275,\n",
       " '2020年5月保险业经营情况表': 911957,\n",
       " '2020年4月保险业经营情况表': 906375,\n",
       " '2020年3月保险业经营情况表': 900170,\n",
       " '2020年2月保险业经营情况表': 896051,\n",
       " '2020年1月保险业经营情况表': 894619}"
      ]
     },
     "execution_count": 21,
     "metadata": {},
     "output_type": "execute_result"
    }
   ],
   "source": [
    "dic2 = {}\n",
    "for page in range(4,7):\n",
    "    r = get_web2(page)\n",
    "    parse_page(r.json(),dic2)\n",
    "dic2"
   ]
  },
  {
   "cell_type": "code",
   "execution_count": 22,
   "metadata": {},
   "outputs": [
    {
     "name": "stdout",
     "output_type": "stream",
     "text": [
      "The page is about 2020年12月保险业经营情况表\n",
      "\n",
      "Success\n",
      "The page is about 2020年11月保险业经营情况表\n",
      "\n",
      "Success\n",
      "The page is about 2020年10月保险业经营情况表\n",
      "\n",
      "2020年10月保险业经营情况表 \tFailed\n",
      "Success\n",
      "The page is about 2020年9月保险业经营情况表\n",
      "\n",
      "2020年9月保险业经营情况表 \tFailed\n",
      "Success\n",
      "The page is about 2020年8月保险业经营情况表\n",
      "\n",
      "2020年8月保险业经营情况表 \tFailed\n",
      "Success\n",
      "The page is about 2020年7月保险业经营情况表\n",
      "\n",
      "2020年7月保险业经营情况表 \tFailed\n",
      "Success\n",
      "The page is about 2020年6月保险业经营情况表\n",
      "\n",
      "2020年6月保险业经营情况表 \tFailed\n",
      "Success\n",
      "The page is about 2020年5月保险业经营情况表\n",
      "\n",
      "2020年5月保险业经营情况表 \tFailed\n",
      "Success\n",
      "The page is about 2020年4月保险业经营情况表\n",
      "\n",
      "Success\n",
      "The page is about 2020年3月保险业经营情况表\n",
      "\n",
      "2020年3月保险业经营情况表 \tFailed\n",
      "Success\n",
      "The page is about 2020年2月保险业经营情况表\n",
      "\n",
      "2020年2月保险业经营情况表 \tFailed\n",
      "Success\n",
      "The page is about 2020年1月保险业经营情况表\n",
      "\n",
      "2020年1月保险业经营情况表 \tFailed\n",
      "Success\n"
     ]
    }
   ],
   "source": [
    "driver = webdriver.Firefox(firefox_profile=fp)\n",
    "for key,val in dic2.items():    \n",
    "    try:\n",
    "        print(\"The page is about {key}\\n\".format(key=key))\n",
    "        get_one_file(driver,key,val)\n",
    "        sleep(3)\n",
    "    except:\n",
    "        print(key,'\\tFailed')\n",
    "        get_one_file(driver,key,val)\n",
    "        #continue"
   ]
  },
  {
   "cell_type": "markdown",
   "metadata": {},
   "source": [
    "### Data Processing"
   ]
  },
  {
   "cell_type": "code",
   "execution_count": 14,
   "metadata": {},
   "outputs": [],
   "source": [
    "import pandas as pd\n",
    "import numpy as np\n"
   ]
  },
  {
   "cell_type": "code",
   "execution_count": 9,
   "metadata": {},
   "outputs": [],
   "source": [
    "file = sorted(os.listdir(raw_data_path)[:-1],key=lambda x: os.path.getmtime(os.path.join(raw_data_path, x)))"
   ]
  },
  {
   "cell_type": "code",
   "execution_count": 11,
   "metadata": {},
   "outputs": [],
   "source": [
    "processed_path = '/mnt/d/data_science/Insurance_report/data/processed'"
   ]
  },
  {
   "cell_type": "code",
   "execution_count": 22,
   "metadata": {},
   "outputs": [],
   "source": [
    "def clean_column(columns_list):\n",
    "    \"\"\"\n",
    "    这个代码负责将表格的列名称清洗干净（就是将一些二级标题、三级标题都转换成完整的名称：{一级标题}-{二级标题}-{三级标题})\n",
    "    如果标题是一级标题 -> 一级标题\n",
    "    如果标题是二级标题 -> {一级标题}-{二级标题}\n",
    "    如果标题是三级标题 -> {一级标题}-{二级标题}-{三级标题}\n",
    "\n",
    "    这么一做，每一个表的列名称就不会混淆\n",
    "\n",
    "    \"\"\"\n",
    "\n",
    "    column_data = pd.DataFrame({'column_name':[i.replace(\" \", '') for i in columns_list]})\n",
    "    # 做一级填充\n",
    "    column_data['class_1'] = column_data['column_name'].apply(lambda x: len(re.findall(pattern='[0-9]+、', string=x)) !=1)#[len(re.findall(pattern='[0-9]+、', string=temp_column)) !=1 for temp_column in columns_list]\n",
    "    column_data['class_1_name'] = column_data['column_name']\n",
    "    column_data.loc[column_data['class_1']== False, 'class_1_name'] = np.nan\n",
    "    column_data['class_1_name'] = column_data['class_1_name'].ffill()\n",
    "    # column_data.loc[column_data['column_name'] != column_data['class_1_name'],'class_1_name'] = \\\n",
    "    #     column_data.loc[column_data['column_name'] != column_data['class_1_name'],:].apply(lambda x: f\"{x['class_1_name']}__{x['column_name']}\", axis=1)\n",
    "    column_data.loc[column_data['class_1'] == False,'class_1_name'] = \\\n",
    "        column_data.loc[column_data['class_1'] == False,:].apply(lambda x: f\"{x['class_1_name']}__{x['column_name']}\", axis=1)\n",
    "    # 做二级填充\n",
    "\n",
    "    column_data['class_2'] = column_data['column_name'].apply(lambda x: len(re.findall(pattern='（[0-9]+）', string=x))!=1)\n",
    "\n",
    "    column_data['class_2_name'] = column_data['class_1_name']\n",
    "    column_data.loc[column_data['class_2'] == False, 'class_2_name'] = np.nan\n",
    "    column_data['class_2_name'] = column_data['class_2_name'].ffill()\n",
    "\n",
    "    column_data.loc[column_data['class_2'] == False, 'class_2_name'] = column_data.loc[column_data['class_2'] == False, :].apply(lambda x: f\"{x['class_2_name']}__{x['column_name']}\", axis=1)\n",
    "\n",
    "    return column_data['class_2_name'].tolist()"
   ]
  },
  {
   "cell_type": "code",
   "execution_count": 62,
   "metadata": {},
   "outputs": [],
   "source": [
    "def get_one_data(i):\n",
    "    try:\n",
    "        data = pd.read_excel(raw_data_path + i,engine = 'openpyxl',skiprows=2).drop('Unnamed: 0',axis = 1).dropna()\n",
    "    except:\n",
    "        data = pd.read_excel(raw_data_path + i,engine = 'xlrd',skiprows=2).drop('Unnamed: 0',axis = 1).dropna()\n",
    "    data = data.set_index('项目').T.reset_index(drop=True)\n",
    "    columns_list = data.columns.tolist()\n",
    "    data.columns = clean_column(columns_list)\n",
    "    data['info'] = '{i}'.format(i = i[:-6])\n",
    "    return data\n",
    "#data"
   ]
  },
  {
   "cell_type": "code",
   "execution_count": 60,
   "metadata": {},
   "outputs": [
    {
     "name": "stdout",
     "output_type": "stream",
     "text": [
      "2021年6月保险业经营情况表.xlsx\n"
     ]
    }
   ],
   "source": [
    "dd = pd.DataFrame()\n",
    "for i in file:\n",
    "    try:\n",
    "        tmp = get_one_data(i)\n",
    "        dd = dd.append(tmp)\n",
    "    except:\n",
    "        print(i)"
   ]
  },
  {
   "cell_type": "code",
   "execution_count": null,
   "metadata": {},
   "outputs": [],
   "source": [
    "data = pd.read_excel(raw_data_path + '2021年6月保险业经营情况表.xlsx',engine = 'openpyxl',skiprows=2).drop(['Unnamed: 0','Unnamed: 3'],axis = 1).dropna()\n",
    "data = data.set_index('项目').T.reset_index(drop=True)\n",
    "#data\n",
    "columns_list = data.columns.tolist()\n",
    "data.columns = clean_column(columns_list)\n",
    "data['info'] = '2021年6月保险业经营情况'\n",
    "data\n",
    "dd = dd.append(data)"
   ]
  },
  {
   "cell_type": "code",
   "execution_count": 41,
   "metadata": {},
   "outputs": [],
   "source": [
    "import xlrd\n",
    "A =xlrd.open_workbook(raw_data_path + '2021年5月保险业经营情况表.xlsx')"
   ]
  },
  {
   "cell_type": "code",
   "execution_count": 73,
   "metadata": {},
   "outputs": [],
   "source": [
    "dd.to_csv('../data/industry_new.csv',index=False)"
   ]
  },
  {
   "cell_type": "code",
   "execution_count": null,
   "metadata": {},
   "outputs": [],
   "source": []
  }
 ],
 "metadata": {
  "kernelspec": {
   "display_name": "Python 3",
   "language": "python",
   "name": "python3"
  },
  "language_info": {
   "codemirror_mode": {
    "name": "ipython",
    "version": 3
   },
   "file_extension": ".py",
   "mimetype": "text/x-python",
   "name": "python",
   "nbconvert_exporter": "python",
   "pygments_lexer": "ipython3",
   "version": "3.6.13"
  },
  "orig_nbformat": 4
 },
 "nbformat": 4,
 "nbformat_minor": 2
}
