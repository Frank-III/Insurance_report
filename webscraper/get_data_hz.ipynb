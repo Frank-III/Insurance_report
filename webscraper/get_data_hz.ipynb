{
 "cells": [
  {
   "cell_type": "code",
   "execution_count": 1,
   "metadata": {
    "collapsed": true
   },
   "outputs": [],
   "source": [
    "import numpy as np\n",
    "import requests\n",
    "from bs4 import BeautifulSoup\n",
    "from tqdm import tqdm\n",
    "from itertools import chain\n",
    "\n",
    "import pandas as pd\n",
    "import numpy as np\n",
    "import time\n",
    "import random\n",
    "\n",
    "\n",
    "import re"
   ]
  },
  {
   "cell_type": "code",
   "execution_count": 2,
   "metadata": {
    "collapsed": false,
    "pycharm": {
     "name": "#%%\n"
    }
   },
   "outputs": [],
   "source": [
    "# 这里的cookie换成你自己的cookie\n",
    "#cookies = {\n",
    "#    'JSESSIONID': 'D12AD85D6F706A7D3E03FC9C6C81035D',\n",
    "    #'_pk_id.7.eda7': 'fbfbdec1aa1b4c42.163xxxxx.',\n",
    "#}\n",
    "#import requests\n",
    "\n",
    "cookies = {\n",
    "    'JSESSIONID': 'D12AD85D6F706A7D3E03FC9C6C81035D',\n",
    "}\n",
    "\n",
    "headers = {\n",
    "    'User-Agent': 'Mozilla/5.0 (Windows NT 10.0; Win64; x64; rv:95.0) Gecko/20100101 Firefox/95.0',\n",
    "    'Accept': 'application/xml, text/xml, */*; q=0.01',\n",
    "    'Accept-Language': 'en-US,en;q=0.5',\n",
    "    'Accept-Encoding': 'gzip, deflate',\n",
    "    'Content-Type': 'application/x-www-form-urlencoded; charset=UTF-8',\n",
    "    'X-Requested-With': 'XMLHttpRequest',\n",
    "    'Origin': 'http://www.iachina.cn',\n",
    "    'Connection': 'keep-alive',\n",
    "    'Referer': 'http://www.iachina.cn/col/col41/?uid=1508&pageNum=1',\n",
    "}\n",
    "\n",
    "params = (\n",
    "    ('startrecord', '1'),\n",
    "    ('endrecord', '107'),\n",
    "    ('perpage', '40'),\n",
    ")\n",
    "\n",
    "data = {\n",
    "  'col': '1',\n",
    "  'appid': '1',\n",
    "  'webid': '1',\n",
    "  'path': '/',\n",
    "  'columnid': '41',\n",
    "  'sourceContentType': '8',\n",
    "  'unitid': '1508',\n",
    "  'webname': '\\u4E2D\\u56FD\\u4FDD\\u9669\\u884C\\u4E1A\\u534F\\u4F1A',\n",
    "  'permissiontype': '0'\n",
    "}\n",
    "\n",
    "response = requests.post('http://www.iachina.cn/module/web/jpage/dataproxy.jsp', headers=headers, params=params, cookies=cookies, data=data)\n",
    "\n",
    "#NB. Original query string below. It seems impossible to parse and\n",
    "#reproduce query strings 100% accurately so the one below is given\n",
    "#in case the reproduced version is not \"correct\".\n",
    "# response = requests.post('http://www.iachina.cn/module/web/jpage/dataproxy.jsp?startrecord=1&endrecord=107&perpage=40', headers=headers, cookies=cookies, data=data)\n",
    "\n",
    "#response = requests.post('http://www.iachina.cn/module/web/jpage/dataproxy.jsp', headers=headers, params=params, cookies=cookies, data=data, verify=False)\n",
    "soup = BeautifulSoup(response.text, 'lxml')\n",
    "chapter_list = soup.find_all(name='a')\n",
    "all_chapter_url = [f\"http://www.iachina.cn{i.get('href')}\" for i in chapter_list]\n",
    "all_chapter_text = [i.text for i in chapter_list]\n"
   ]
  },
  {
   "cell_type": "code",
   "execution_count": 3,
   "metadata": {
    "collapsed": false,
    "pycharm": {
     "name": "#%%\n"
    }
   },
   "outputs": [
    {
     "data": {
      "text/html": [
       "<div>\n",
       "<style scoped>\n",
       "    .dataframe tbody tr th:only-of-type {\n",
       "        vertical-align: middle;\n",
       "    }\n",
       "\n",
       "    .dataframe tbody tr th {\n",
       "        vertical-align: top;\n",
       "    }\n",
       "\n",
       "    .dataframe thead th {\n",
       "        text-align: right;\n",
       "    }\n",
       "</style>\n",
       "<table border=\"1\" class=\"dataframe\">\n",
       "  <thead>\n",
       "    <tr style=\"text-align: right;\">\n",
       "      <th></th>\n",
       "      <th>url</th>\n",
       "      <th>text</th>\n",
       "    </tr>\n",
       "  </thead>\n",
       "  <tbody>\n",
       "    <tr>\n",
       "      <th>0</th>\n",
       "      <td>http://www.iachina.cn/art/2018/4/3/art_617_102...</td>\n",
       "      <td>2018年1-2月保险业经营情况表</td>\n",
       "    </tr>\n",
       "    <tr>\n",
       "      <th>1</th>\n",
       "      <td>http://www.iachina.cn/art/2018/3/9/art_617_102...</td>\n",
       "      <td>2018年1月保险业经营情况表</td>\n",
       "    </tr>\n",
       "    <tr>\n",
       "      <th>2</th>\n",
       "      <td>http://www.iachina.cn/art/2018/3/6/art_617_102...</td>\n",
       "      <td>2017年保险业经营情况表</td>\n",
       "    </tr>\n",
       "    <tr>\n",
       "      <th>3</th>\n",
       "      <td>http://www.iachina.cn/art/2018/1/10/art_617_10...</td>\n",
       "      <td>2017年1-11月保险业经营情况表</td>\n",
       "    </tr>\n",
       "    <tr>\n",
       "      <th>4</th>\n",
       "      <td>http://www.iachina.cn/art/2017/11/27/art_617_9...</td>\n",
       "      <td>2017年1-10月保险业经营情况表</td>\n",
       "    </tr>\n",
       "    <tr>\n",
       "      <th>...</th>\n",
       "      <td>...</td>\n",
       "      <td>...</td>\n",
       "    </tr>\n",
       "    <tr>\n",
       "      <th>102</th>\n",
       "      <td>http://www.iachina.cn/art/2009/11/5/art_617_11...</td>\n",
       "      <td>2009年1-5月保险业经营数据</td>\n",
       "    </tr>\n",
       "    <tr>\n",
       "      <th>103</th>\n",
       "      <td>http://www.iachina.cn/art/2009/11/5/art_617_11...</td>\n",
       "      <td>2009年1-4月保险业经营数据</td>\n",
       "    </tr>\n",
       "    <tr>\n",
       "      <th>104</th>\n",
       "      <td>http://www.iachina.cn/art/2009/11/5/art_617_11...</td>\n",
       "      <td>2009年1-3月保险业经营数据</td>\n",
       "    </tr>\n",
       "    <tr>\n",
       "      <th>105</th>\n",
       "      <td>http://www.iachina.cn/art/2009/11/5/art_617_11...</td>\n",
       "      <td>2009年1-2月保险业经营数据</td>\n",
       "    </tr>\n",
       "    <tr>\n",
       "      <th>106</th>\n",
       "      <td>http://www.iachina.cn/art/2009/11/5/art_617_11...</td>\n",
       "      <td>2009年1月保险业经营数据</td>\n",
       "    </tr>\n",
       "  </tbody>\n",
       "</table>\n",
       "<p>107 rows × 2 columns</p>\n",
       "</div>"
      ],
      "text/plain": [
       "                                                   url                text\n",
       "0    http://www.iachina.cn/art/2018/4/3/art_617_102...   2018年1-2月保险业经营情况表\n",
       "1    http://www.iachina.cn/art/2018/3/9/art_617_102...     2018年1月保险业经营情况表\n",
       "2    http://www.iachina.cn/art/2018/3/6/art_617_102...       2017年保险业经营情况表\n",
       "3    http://www.iachina.cn/art/2018/1/10/art_617_10...  2017年1-11月保险业经营情况表\n",
       "4    http://www.iachina.cn/art/2017/11/27/art_617_9...  2017年1-10月保险业经营情况表\n",
       "..                                                 ...                 ...\n",
       "102  http://www.iachina.cn/art/2009/11/5/art_617_11...    2009年1-5月保险业经营数据\n",
       "103  http://www.iachina.cn/art/2009/11/5/art_617_11...    2009年1-4月保险业经营数据\n",
       "104  http://www.iachina.cn/art/2009/11/5/art_617_11...    2009年1-3月保险业经营数据\n",
       "105  http://www.iachina.cn/art/2009/11/5/art_617_11...    2009年1-2月保险业经营数据\n",
       "106  http://www.iachina.cn/art/2009/11/5/art_617_11...      2009年1月保险业经营数据\n",
       "\n",
       "[107 rows x 2 columns]"
      ]
     },
     "execution_count": 3,
     "metadata": {},
     "output_type": "execute_result"
    }
   ],
   "source": [
    "pd.DataFrame({'url':all_chapter_url,\n",
    "              'text':all_chapter_text})"
   ]
  },
  {
   "cell_type": "code",
   "execution_count": null,
   "metadata": {
    "collapsed": false,
    "pycharm": {
     "name": "#%%\n"
    }
   },
   "outputs": [],
   "source": [
    "def clean_column(columns_list):\n",
    "    \"\"\"\n",
    "    这个代码负责将表格的列名称清洗干净（就是将一些二级标题、三级标题都转换成完整的名称：{一级标题}-{二级标题}-{三级标题})\n",
    "    如果标题是一级标题 -> 一级标题\n",
    "    如果标题是二级标题 -> {一级标题}-{二级标题}\n",
    "    如果标题是三级标题 -> {一级标题}-{二级标题}-{三级标题}\n",
    "\n",
    "    这么一做，每一个表的列名称就不会混淆\n",
    "\n",
    "    \"\"\"\n",
    "\n",
    "    column_data = pd.DataFrame({'column_name':[i.replace(\" \", '') for i in columns_list]})\n",
    "    # 做一级填充\n",
    "    column_data['class_1'] = column_data['column_name'].apply(lambda x: len(re.findall(pattern='[0-9]+、', string=x)) !=1)#[len(re.findall(pattern='[0-9]+、', string=temp_column)) !=1 for temp_column in columns_list]\n",
    "    column_data['class_1_name'] = column_data['column_name']\n",
    "    column_data.loc[column_data['class_1']== False, 'class_1_name'] = np.nan\n",
    "    column_data['class_1_name'] = column_data['class_1_name'].ffill()\n",
    "    # column_data.loc[column_data['column_name'] != column_data['class_1_name'],'class_1_name'] = \\\n",
    "    #     column_data.loc[column_data['column_name'] != column_data['class_1_name'],:].apply(lambda x: f\"{x['class_1_name']}__{x['column_name']}\", axis=1)\n",
    "    column_data.loc[column_data['class_1'] == False,'class_1_name'] = \\\n",
    "        column_data.loc[column_data['class_1'] == False,:].apply(lambda x: f\"{x['class_1_name']}__{x['column_name']}\", axis=1)\n",
    "    # 做二级填充\n",
    "\n",
    "    column_data['class_2'] = column_data['column_name'].apply(lambda x: len(re.findall(pattern='（[0-9]+）', string=x))!=1)\n",
    "\n",
    "    column_data['class_2_name'] = column_data['class_1_name']\n",
    "    column_data.loc[column_data['class_2'] == False, 'class_2_name'] = np.nan\n",
    "    column_data['class_2_name'] = column_data['class_2_name'].ffill()\n",
    "\n",
    "    column_data.loc[column_data['class_2'] == False, 'class_2_name'] = column_data.loc[column_data['class_2'] == False, :].apply(lambda x: f\"{x['class_2_name']}__{x['column_name']}\", axis=1)\n",
    "\n",
    "    return column_data['class_2_name'].tolist()\n",
    "\n",
    "\n",
    "\n",
    "def get_chapter_data(index):\n",
    "    # time.sleep(random.randint(0, 1.5))\n",
    "\n",
    "    temp_url = all_chapter_url[index]\n",
    "    temp_info = all_chapter_text[index]\n",
    "    data = pd.read_html(temp_url)[2].dropna()\n",
    "    data = data.loc[data[0] != data[1], :]\n",
    "    data = data.set_index(0).T.reset_index(drop=True)\n",
    "\n",
    "    columns_list = data.columns.tolist()\n",
    "    data.columns = clean_column(columns_list)\n",
    "\n",
    "    # data.columns = [f\"{index}_{columns_list[index]}\" for index in range(len(columns_list))]\n",
    "\n",
    "\n",
    "    data['from_url'] = temp_url\n",
    "    data['info'] = temp_info\n",
    "    return data\n",
    "\n",
    "# test function\n",
    "test_data = get_chapter_data(index=70)\n",
    "test_data"
   ]
  },
  {
   "cell_type": "code",
   "execution_count": null,
   "metadata": {
    "collapsed": false,
    "pycharm": {
     "name": "#%%\n"
    }
   },
   "outputs": [],
   "source": [
    "finaldata = pd.concat([get_chapter_data(index) for index in tqdm(range(len(all_chapter_url)))]).reset_index(drop=True)\n",
    "finaldata.head(10)"
   ]
  },
  {
   "cell_type": "code",
   "execution_count": 17,
   "metadata": {},
   "outputs": [],
   "source": [
    "finaldata.to_csv(\"保险业经营数据.csv\", index=False)"
   ]
  },
  {
   "cell_type": "code",
   "execution_count": null,
   "metadata": {},
   "outputs": [],
   "source": [
    "finaldata"
   ]
  },
  {
   "cell_type": "markdown",
   "metadata": {
    "collapsed": false,
    "pycharm": {
     "name": "#%%\n"
    }
   },
   "source": [
    "## Jiangda Test"
   ]
  }
 ],
 "metadata": {
  "kernelspec": {
   "display_name": "Python 3",
   "language": "python",
   "name": "python3"
  },
  "language_info": {
   "codemirror_mode": {
    "name": "ipython",
    "version": 3
   },
   "file_extension": ".py",
   "mimetype": "text/x-python",
   "name": "python",
   "nbconvert_exporter": "python",
   "pygments_lexer": "ipython3",
   "version": "3.6.13"
  }
 },
 "nbformat": 4,
 "nbformat_minor": 0
}
