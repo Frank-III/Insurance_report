{
 "cells": [
  {
   "cell_type": "code",
   "execution_count": 2,
   "metadata": {},
   "outputs": [],
   "source": [
    "import pandas as pd\n",
    "import numpy as np\n",
    "pd.set_option('display.max_rows', 100)\n",
    "pd.set_option('display.max_columns', 100)\n",
    "import re\n",
    "import requests\n",
    "from bs4 import BeautifulSoup\n",
    "import time\n",
    "import random"
   ]
  },
  {
   "cell_type": "code",
   "execution_count": null,
   "metadata": {},
   "outputs": [],
   "source": [
    "cookies = {\n",
    "    'JSESSIONID': 'D12AD85D6F706A7D3E03FC9C6C81035D',\n",
    "}\n",
    "\n",
    "headers = {\n",
    "    'User-Agent': 'Mozilla/5.0 (Windows NT 10.0; Win64; x64; rv:95.0) Gecko/20100101 Firefox/95.0',\n",
    "    'Accept': 'application/xml, text/xml, */*; q=0.01',\n",
    "    'Accept-Language': 'en-US,en;q=0.5',\n",
    "    'Accept-Encoding': 'gzip, deflate',\n",
    "    'Content-Type': 'application/x-www-form-urlencoded; charset=UTF-8',\n",
    "    'X-Requested-With': 'XMLHttpRequest',\n",
    "    'Origin': 'http://www.iachina.cn',\n",
    "    'Connection': 'keep-alive',\n",
    "    'Referer': 'http://www.iachina.cn/col/col41/?uid=1508&pageNum=1',\n",
    "}\n",
    "\n",
    "params = (\n",
    "    ('startrecord', '1'),\n",
    "    ('endrecord', '107'),\n",
    "    ('perpage', '40'),\n",
    ")\n",
    "\n",
    "data = {\n",
    "  'col': '1',\n",
    "  'appid': '1',\n",
    "  'webid': '1',\n",
    "  'path': '/',\n",
    "  'columnid': '41',\n",
    "  'sourceContentType': '8',\n",
    "  'unitid': '1508',\n",
    "  'webname': '\\u4E2D\\u56FD\\u4FDD\\u9669\\u884C\\u4E1A\\u534F\\u4F1A',\n",
    "  'permissiontype': '0'\n",
    "}\n",
    "\n",
    "response = requests.post('http://www.iachina.cn/module/web/jpage/dataproxy.jsp', headers=headers, params=params, cookies=cookies, data=data)\n",
    "\n",
    "links=re.findall('<a href=\"(.*?)\">',response.text)\n",
    "titles=re.findall('html\">(.*?)</a>',response.text)\n",
    "print(len(links))\n",
    "for link,title in zip(links,titles):\n",
    "    print(title,'http://www.iachina.cn/'+link)\n",
    "    with open('web_data.csv','a',encoding='utf-8-sig') as csv:\n",
    "        csv.write(f'{title},http://www.iachina.cn{link}\\n')\n"
   ]
  },
  {
   "cell_type": "code",
   "execution_count": 3,
   "metadata": {},
   "outputs": [],
   "source": [
    "web_url = pd.read_csv('web_data.csv',names=['name','url'])\n",
    "web_url['url'] = web_url['url'].astype(str)\n",
    "web_url['name'] = web_url['name'].astype(str)\n",
    "#web_url['url'] = web_url['url'].str.replace('+/','')\n",
    "web_url.head(100)\n",
    "name_prefix = web_url['name'].str.findall(r'.*(?=保险.*)')\n",
    "name_prefix = name_prefix.apply(lambda x:x[0]).to_list()"
   ]
  },
  {
   "cell_type": "code",
   "execution_count": 16,
   "metadata": {},
   "outputs": [
    {
     "name": "stdout",
     "output_type": "stream",
     "text": [
      "http://www.iachina.cn/art/2018/4/3/art_617_102275.html\n"
     ]
    },
    {
     "ename": "AttributeError",
     "evalue": "'NoneType' object has no attribute 'find_all'",
     "output_type": "error",
     "traceback": [
      "\u001b[0;31m---------------------------------------------------------------------------\u001b[0m",
      "\u001b[0;31mAttributeError\u001b[0m                            Traceback (most recent call last)",
      "\u001b[0;32m<ipython-input-16-6935a5e98d6d>\u001b[0m in \u001b[0;36m<module>\u001b[0;34m\u001b[0m\n\u001b[1;32m     10\u001b[0m     \u001b[0msoup\u001b[0m \u001b[0;34m=\u001b[0m \u001b[0mBeautifulSoup\u001b[0m\u001b[0;34m(\u001b[0m\u001b[0mr\u001b[0m\u001b[0;34m.\u001b[0m\u001b[0mcontent\u001b[0m\u001b[0;34m,\u001b[0m\u001b[0;34m'html.parser'\u001b[0m\u001b[0;34m)\u001b[0m\u001b[0;34m\u001b[0m\u001b[0;34m\u001b[0m\u001b[0m\n\u001b[1;32m     11\u001b[0m     \u001b[0mtable\u001b[0m \u001b[0;34m=\u001b[0m \u001b[0msoup\u001b[0m\u001b[0;34m.\u001b[0m\u001b[0mfind\u001b[0m\u001b[0;34m(\u001b[0m\u001b[0;34m'table'\u001b[0m\u001b[0;34m)\u001b[0m\u001b[0;34m\u001b[0m\u001b[0;34m\u001b[0m\u001b[0m\n\u001b[0;32m---> 12\u001b[0;31m     \u001b[0;32mfor\u001b[0m \u001b[0mrow\u001b[0m \u001b[0;32min\u001b[0m \u001b[0mtable\u001b[0m\u001b[0;34m.\u001b[0m\u001b[0mtbody\u001b[0m\u001b[0;34m.\u001b[0m\u001b[0mfind_all\u001b[0m\u001b[0;34m(\u001b[0m\u001b[0;34m'tr'\u001b[0m\u001b[0;34m)\u001b[0m\u001b[0;34m[\u001b[0m\u001b[0;36m1\u001b[0m\u001b[0;34m:\u001b[0m\u001b[0;34m]\u001b[0m\u001b[0;34m:\u001b[0m\u001b[0;34m\u001b[0m\u001b[0;34m\u001b[0m\u001b[0m\n\u001b[0m\u001b[1;32m     13\u001b[0m         \u001b[0mcolumns\u001b[0m \u001b[0;34m=\u001b[0m \u001b[0mrow\u001b[0m\u001b[0;34m.\u001b[0m\u001b[0mfind_all\u001b[0m\u001b[0;34m(\u001b[0m\u001b[0;34m'td'\u001b[0m\u001b[0;34m)\u001b[0m\u001b[0;34m\u001b[0m\u001b[0;34m\u001b[0m\u001b[0m\n\u001b[1;32m     14\u001b[0m         \u001b[0;32mif\u001b[0m \u001b[0;34m(\u001b[0m\u001b[0mcolumns\u001b[0m\u001b[0;34m[\u001b[0m\u001b[0;36m0\u001b[0m\u001b[0;34m]\u001b[0m\u001b[0;34m.\u001b[0m\u001b[0mtext\u001b[0m\u001b[0;34m.\u001b[0m\u001b[0mstrip\u001b[0m\u001b[0;34m(\u001b[0m\u001b[0;34m)\u001b[0m \u001b[0;34m!=\u001b[0m \u001b[0;34m''\u001b[0m\u001b[0;34m)\u001b[0m\u001b[0;34m:\u001b[0m\u001b[0;34m\u001b[0m\u001b[0;34m\u001b[0m\u001b[0m\n",
      "\u001b[0;31mAttributeError\u001b[0m: 'NoneType' object has no attribute 'find_all'"
     ]
    }
   ],
   "source": [
    "df = pd.DataFrame(columns = ['Class','TotalEarning','date_time'])\n",
    "websites = web_url['url'].to_list()\n",
    "pre_class = None\n",
    "\n",
    "#try:\n",
    "for i in range(len(websites)):\n",
    "    url = websites[i]\n",
    "    r = requests.get(url)\n",
    "    print(url)\n",
    "    soup = BeautifulSoup(r.content,'html.parser')\n",
    "    table = soup.find('table')\n",
    "    for row in table.tbody.find_all('tr')[1:]:\n",
    "        columns = row.find_all('td')\n",
    "        if (columns[0].text.strip() != ''):\n",
    "            class_ = columns[0].text.strip()\n",
    "            earning = columns[1].text.strip()\n",
    "            date = name_prefix[i]\n",
    "            if pre_class is not None and '、' in class_:\n",
    "                if re.match(r'.*_.*',pre_class):\n",
    "                    pre_class = re.sub(r'_.*', '_'+ class_, pre_class)\n",
    "                    class_ = pre_class \n",
    "                else:\n",
    "                    class_ = \"_\".join([pre_class,class_])\n",
    "                    pre_class = class_\n",
    "\n",
    "            elif pre_class is not None and '（' in class_:\n",
    "                    class_ = \"_\".join([pre_class,class_])\n",
    "            else:\n",
    "                pre_class = class_\n",
    "            df = df.append({'Class': class_, 'TotalEarning':earning,'date_time':date},ignore_index=True)\n",
    "#except:\n",
    "    \n",
    "    \n",
    "df"
   ]
  },
  {
   "cell_type": "code",
   "execution_count": 23,
   "metadata": {},
   "outputs": [
    {
     "ename": "TypeError",
     "evalue": "'NoneType' object is not callable",
     "output_type": "error",
     "traceback": [
      "\u001b[0;31m---------------------------------------------------------------------------\u001b[0m",
      "\u001b[0;31mTypeError\u001b[0m                                 Traceback (most recent call last)",
      "\u001b[0;32m<ipython-input-23-2c620bf6d277>\u001b[0m in \u001b[0;36m<module>\u001b[0;34m\u001b[0m\n\u001b[1;32m      4\u001b[0m \u001b[0msoup\u001b[0m \u001b[0;34m=\u001b[0m \u001b[0mBeautifulSoup\u001b[0m\u001b[0;34m(\u001b[0m\u001b[0mr\u001b[0m\u001b[0;34m.\u001b[0m\u001b[0mcontent\u001b[0m\u001b[0;34m,\u001b[0m\u001b[0;34m'html.parser'\u001b[0m\u001b[0;34m)\u001b[0m\u001b[0;34m\u001b[0m\u001b[0;34m\u001b[0m\u001b[0m\n\u001b[1;32m      5\u001b[0m \u001b[0;31m#table = soup.findall('table')\u001b[0m\u001b[0;34m\u001b[0m\u001b[0;34m\u001b[0m\u001b[0;34m\u001b[0m\u001b[0m\n\u001b[0;32m----> 6\u001b[0;31m \u001b[0msoup\u001b[0m\u001b[0;34m.\u001b[0m\u001b[0mfindall\u001b[0m\u001b[0;34m(\u001b[0m\u001b[0;34m'table'\u001b[0m\u001b[0;34m)\u001b[0m\u001b[0;34m\u001b[0m\u001b[0;34m\u001b[0m\u001b[0m\n\u001b[0m\u001b[1;32m      7\u001b[0m \u001b[0;31m#table.tbody.find_all('tr')[1:]\u001b[0m\u001b[0;34m\u001b[0m\u001b[0;34m\u001b[0m\u001b[0;34m\u001b[0m\u001b[0m\n\u001b[1;32m      8\u001b[0m \u001b[0;31m#print(table)\u001b[0m\u001b[0;34m\u001b[0m\u001b[0;34m\u001b[0m\u001b[0;34m\u001b[0m\u001b[0m\n",
      "\u001b[0;31mTypeError\u001b[0m: 'NoneType' object is not callable"
     ]
    }
   ],
   "source": [
    "url = 'http://www.iachina.cn/art/2018/4/3/art_617_102275.html'\n",
    "r = requests.get(url)\n",
    "#print(url)\n",
    "soup = BeautifulSoup(r.content,'html.parser')\n",
    "#table = soup.findall('table')\n",
    "soup.findall('table')\n",
    "#table.tbody.find_all('tr')[1:]\n",
    "#print(table)"
   ]
  },
  {
   "cell_type": "code",
   "execution_count": 99,
   "metadata": {},
   "outputs": [],
   "source": [
    "df = df.drop_duplicates(subset=['Class','TotalEarning','date_time'])"
   ]
  },
  {
   "cell_type": "code",
   "execution_count": 100,
   "metadata": {},
   "outputs": [
    {
     "name": "stderr",
     "output_type": "stream",
     "text": [
      "/home/frank/miniconda3/envs/mypy/lib/python3.6/site-packages/ipykernel_launcher.py:6: SettingWithCopyWarning: \n",
      "A value is trying to be set on a copy of a slice from a DataFrame.\n",
      "Try using .loc[row_indexer,col_indexer] = value instead\n",
      "\n",
      "See the caveats in the documentation: https://pandas.pydata.org/pandas-docs/stable/user_guide/indexing.html#returning-a-view-versus-a-copy\n",
      "  \n"
     ]
    }
   ],
   "source": [
    "def replace_chinese_format(x):\n",
    "    x = x.replace('、','.')\n",
    "    x = x.replace('（','(')\n",
    "    x = x.replace('）',')_')\n",
    "    return x\n",
    "df['Class']= df['Class'].apply(replace_chinese_format)"
   ]
  },
  {
   "cell_type": "code",
   "execution_count": 120,
   "metadata": {},
   "outputs": [],
   "source": [
    "data_d = df.pivot(index = 'date_time',columns='Class',values='TotalEarning').sort_index(ascending = False)"
   ]
  },
  {
   "cell_type": "code",
   "execution_count": 121,
   "metadata": {},
   "outputs": [],
   "source": [
    "data_d.to_csv('insurance_data_by_frank.csv')"
   ]
  },
  {
   "cell_type": "code",
   "execution_count": 111,
   "metadata": {},
   "outputs": [],
   "source": [
    "l1 = data_d.index.to_list()\n",
    "l2 = pd.read_csv('industry_data.csv')['info'].str.findall(r'.*(?=保险.*)')\n",
    "l2 = l2.apply(lambda x: x[0]).to_list()"
   ]
  },
  {
   "cell_type": "code",
   "execution_count": 124,
   "metadata": {},
   "outputs": [
    {
     "data": {
      "text/plain": [
       "set()"
      ]
     },
     "execution_count": 124,
     "metadata": {},
     "output_type": "execute_result"
    }
   ],
   "source": [
    "set(l1).symmetric_difference(set(l2))"
   ]
  },
  {
   "cell_type": "code",
   "execution_count": 125,
   "metadata": {},
   "outputs": [
    {
     "data": {
      "text/plain": [
       "(107, 23)"
      ]
     },
     "execution_count": 125,
     "metadata": {},
     "output_type": "execute_result"
    }
   ],
   "source": [
    "pd.read_csv('industry_data.csv').shape"
   ]
  },
  {
   "cell_type": "code",
   "execution_count": 126,
   "metadata": {},
   "outputs": [
    {
     "data": {
      "text/plain": [
       "(106, 18)"
      ]
     },
     "execution_count": 126,
     "metadata": {},
     "output_type": "execute_result"
    }
   ],
   "source": [
    "data_d.shape"
   ]
  },
  {
   "cell_type": "code",
   "execution_count": null,
   "metadata": {},
   "outputs": [],
   "source": []
  }
 ],
 "metadata": {
  "kernelspec": {
   "display_name": "Python 3",
   "language": "python",
   "name": "python3"
  },
  "orig_nbformat": 4
 },
 "nbformat": 4,
 "nbformat_minor": 2
}
